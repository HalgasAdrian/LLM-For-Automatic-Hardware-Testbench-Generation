{
  "nbformat": 4,
  "nbformat_minor": 0,
  "metadata": {
    "colab": {
      "provenance": [],
      "gpuType": "A100",
      "machine_shape": "hm",
      "include_colab_link": true
    },
    "kernelspec": {
      "name": "python3",
      "display_name": "Python 3"
    },
    "language_info": {
      "name": "python"
    },
    "accelerator": "GPU"
  },
  "cells": [
    {
      "cell_type": "markdown",
      "metadata": {
        "id": "view-in-github",
        "colab_type": "text"
      },
      "source": [
        "<a href=\"https://colab.research.google.com/github/HalgasAdrian/LLM-For-Automatic-Hardware-Testbench-Generation/blob/main/notebooks/train_on_colab.ipynb\" target=\"_parent\"><img src=\"https://colab.research.google.com/assets/colab-badge.svg\" alt=\"Open In Colab\"/></a>"
      ]
    },
    {
      "cell_type": "markdown",
      "metadata": {
        "id": "header"
      },
      "source": [
        "# LLM Testbench Generation Training on Colab This notebook trains the model on Google Colab with GPU acceleration."
      ]
    },
    {
      "cell_type": "code",
      "source": [
        "# Check GPU availability\n",
        "!nvidia-smi\n",
        "\n",
        "import torch\n",
        "print(f\"PyTorch version: {torch.__version__}\")\n",
        "print(f\"CUDA available: {torch.cuda.is_available()}\")\n",
        "if torch.cuda.is_available():\n",
        "    print(f\"GPU: {torch.cuda.get_device_name(0)}\")"
      ],
      "metadata": {
        "colab": {
          "base_uri": "https://localhost:8080/"
        },
        "id": "TOwjhyHGa2L_",
        "outputId": "5851fc5d-654b-485b-b424-20529b279c6d"
      },
      "execution_count": 1,
      "outputs": [
        {
          "output_type": "stream",
          "name": "stdout",
          "text": [
            "Tue Aug 12 00:45:04 2025       \n",
            "+-----------------------------------------------------------------------------------------+\n",
            "| NVIDIA-SMI 550.54.15              Driver Version: 550.54.15      CUDA Version: 12.4     |\n",
            "|-----------------------------------------+------------------------+----------------------+\n",
            "| GPU  Name                 Persistence-M | Bus-Id          Disp.A | Volatile Uncorr. ECC |\n",
            "| Fan  Temp   Perf          Pwr:Usage/Cap |           Memory-Usage | GPU-Util  Compute M. |\n",
            "|                                         |                        |               MIG M. |\n",
            "|=========================================+========================+======================|\n",
            "|   0  NVIDIA A100-SXM4-40GB          Off |   00000000:00:04.0 Off |                    0 |\n",
            "| N/A   33C    P0             41W /  400W |       0MiB /  40960MiB |      0%      Default |\n",
            "|                                         |                        |             Disabled |\n",
            "+-----------------------------------------+------------------------+----------------------+\n",
            "                                                                                         \n",
            "+-----------------------------------------------------------------------------------------+\n",
            "| Processes:                                                                              |\n",
            "|  GPU   GI   CI        PID   Type   Process name                              GPU Memory |\n",
            "|        ID   ID                                                               Usage      |\n",
            "|=========================================================================================|\n",
            "|  No running processes found                                                             |\n",
            "+-----------------------------------------------------------------------------------------+\n",
            "PyTorch version: 2.6.0+cu124\n",
            "CUDA available: True\n",
            "GPU: NVIDIA A100-SXM4-40GB\n"
          ]
        }
      ]
    },
    {
      "cell_type": "markdown",
      "metadata": {
        "id": "setup_header"
      },
      "source": [
        "## 1. Setup Environment"
      ]
    },
    {
      "cell_type": "markdown",
      "metadata": {
        "id": "upload_header"
      },
      "source": [
        "## 3. Upload and Extract Project Files"
      ]
    },
    {
      "cell_type": "code",
      "source": [
        "# Option 1: Upload from local computer\n",
        "from google.colab import files\n",
        "uploaded = files.upload()  # Select llm_testbench_colab.zip\n",
        "\n",
        "# Extract\n",
        "!unzip -q llm_testbench_colab.zip\n",
        "!ls -la"
      ],
      "metadata": {
        "colab": {
          "base_uri": "https://localhost:8080/",
          "height": 806
        },
        "id": "87JYqbv5bLCm",
        "outputId": "eaf6d43b-035b-4005-e432-42fce786655b"
      },
      "execution_count": 19,
      "outputs": [
        {
          "output_type": "display_data",
          "data": {
            "text/plain": [
              "<IPython.core.display.HTML object>"
            ],
            "text/html": [
              "\n",
              "     <input type=\"file\" id=\"files-e0806121-3af9-43a3-a3cf-93923cec4785\" name=\"files[]\" multiple disabled\n",
              "        style=\"border:none\" />\n",
              "     <output id=\"result-e0806121-3af9-43a3-a3cf-93923cec4785\">\n",
              "      Upload widget is only available when the cell has been executed in the\n",
              "      current browser session. Please rerun this cell to enable.\n",
              "      </output>\n",
              "      <script>// Copyright 2017 Google LLC\n",
              "//\n",
              "// Licensed under the Apache License, Version 2.0 (the \"License\");\n",
              "// you may not use this file except in compliance with the License.\n",
              "// You may obtain a copy of the License at\n",
              "//\n",
              "//      http://www.apache.org/licenses/LICENSE-2.0\n",
              "//\n",
              "// Unless required by applicable law or agreed to in writing, software\n",
              "// distributed under the License is distributed on an \"AS IS\" BASIS,\n",
              "// WITHOUT WARRANTIES OR CONDITIONS OF ANY KIND, either express or implied.\n",
              "// See the License for the specific language governing permissions and\n",
              "// limitations under the License.\n",
              "\n",
              "/**\n",
              " * @fileoverview Helpers for google.colab Python module.\n",
              " */\n",
              "(function(scope) {\n",
              "function span(text, styleAttributes = {}) {\n",
              "  const element = document.createElement('span');\n",
              "  element.textContent = text;\n",
              "  for (const key of Object.keys(styleAttributes)) {\n",
              "    element.style[key] = styleAttributes[key];\n",
              "  }\n",
              "  return element;\n",
              "}\n",
              "\n",
              "// Max number of bytes which will be uploaded at a time.\n",
              "const MAX_PAYLOAD_SIZE = 100 * 1024;\n",
              "\n",
              "function _uploadFiles(inputId, outputId) {\n",
              "  const steps = uploadFilesStep(inputId, outputId);\n",
              "  const outputElement = document.getElementById(outputId);\n",
              "  // Cache steps on the outputElement to make it available for the next call\n",
              "  // to uploadFilesContinue from Python.\n",
              "  outputElement.steps = steps;\n",
              "\n",
              "  return _uploadFilesContinue(outputId);\n",
              "}\n",
              "\n",
              "// This is roughly an async generator (not supported in the browser yet),\n",
              "// where there are multiple asynchronous steps and the Python side is going\n",
              "// to poll for completion of each step.\n",
              "// This uses a Promise to block the python side on completion of each step,\n",
              "// then passes the result of the previous step as the input to the next step.\n",
              "function _uploadFilesContinue(outputId) {\n",
              "  const outputElement = document.getElementById(outputId);\n",
              "  const steps = outputElement.steps;\n",
              "\n",
              "  const next = steps.next(outputElement.lastPromiseValue);\n",
              "  return Promise.resolve(next.value.promise).then((value) => {\n",
              "    // Cache the last promise value to make it available to the next\n",
              "    // step of the generator.\n",
              "    outputElement.lastPromiseValue = value;\n",
              "    return next.value.response;\n",
              "  });\n",
              "}\n",
              "\n",
              "/**\n",
              " * Generator function which is called between each async step of the upload\n",
              " * process.\n",
              " * @param {string} inputId Element ID of the input file picker element.\n",
              " * @param {string} outputId Element ID of the output display.\n",
              " * @return {!Iterable<!Object>} Iterable of next steps.\n",
              " */\n",
              "function* uploadFilesStep(inputId, outputId) {\n",
              "  const inputElement = document.getElementById(inputId);\n",
              "  inputElement.disabled = false;\n",
              "\n",
              "  const outputElement = document.getElementById(outputId);\n",
              "  outputElement.innerHTML = '';\n",
              "\n",
              "  const pickedPromise = new Promise((resolve) => {\n",
              "    inputElement.addEventListener('change', (e) => {\n",
              "      resolve(e.target.files);\n",
              "    });\n",
              "  });\n",
              "\n",
              "  const cancel = document.createElement('button');\n",
              "  inputElement.parentElement.appendChild(cancel);\n",
              "  cancel.textContent = 'Cancel upload';\n",
              "  const cancelPromise = new Promise((resolve) => {\n",
              "    cancel.onclick = () => {\n",
              "      resolve(null);\n",
              "    };\n",
              "  });\n",
              "\n",
              "  // Wait for the user to pick the files.\n",
              "  const files = yield {\n",
              "    promise: Promise.race([pickedPromise, cancelPromise]),\n",
              "    response: {\n",
              "      action: 'starting',\n",
              "    }\n",
              "  };\n",
              "\n",
              "  cancel.remove();\n",
              "\n",
              "  // Disable the input element since further picks are not allowed.\n",
              "  inputElement.disabled = true;\n",
              "\n",
              "  if (!files) {\n",
              "    return {\n",
              "      response: {\n",
              "        action: 'complete',\n",
              "      }\n",
              "    };\n",
              "  }\n",
              "\n",
              "  for (const file of files) {\n",
              "    const li = document.createElement('li');\n",
              "    li.append(span(file.name, {fontWeight: 'bold'}));\n",
              "    li.append(span(\n",
              "        `(${file.type || 'n/a'}) - ${file.size} bytes, ` +\n",
              "        `last modified: ${\n",
              "            file.lastModifiedDate ? file.lastModifiedDate.toLocaleDateString() :\n",
              "                                    'n/a'} - `));\n",
              "    const percent = span('0% done');\n",
              "    li.appendChild(percent);\n",
              "\n",
              "    outputElement.appendChild(li);\n",
              "\n",
              "    const fileDataPromise = new Promise((resolve) => {\n",
              "      const reader = new FileReader();\n",
              "      reader.onload = (e) => {\n",
              "        resolve(e.target.result);\n",
              "      };\n",
              "      reader.readAsArrayBuffer(file);\n",
              "    });\n",
              "    // Wait for the data to be ready.\n",
              "    let fileData = yield {\n",
              "      promise: fileDataPromise,\n",
              "      response: {\n",
              "        action: 'continue',\n",
              "      }\n",
              "    };\n",
              "\n",
              "    // Use a chunked sending to avoid message size limits. See b/62115660.\n",
              "    let position = 0;\n",
              "    do {\n",
              "      const length = Math.min(fileData.byteLength - position, MAX_PAYLOAD_SIZE);\n",
              "      const chunk = new Uint8Array(fileData, position, length);\n",
              "      position += length;\n",
              "\n",
              "      const base64 = btoa(String.fromCharCode.apply(null, chunk));\n",
              "      yield {\n",
              "        response: {\n",
              "          action: 'append',\n",
              "          file: file.name,\n",
              "          data: base64,\n",
              "        },\n",
              "      };\n",
              "\n",
              "      let percentDone = fileData.byteLength === 0 ?\n",
              "          100 :\n",
              "          Math.round((position / fileData.byteLength) * 100);\n",
              "      percent.textContent = `${percentDone}% done`;\n",
              "\n",
              "    } while (position < fileData.byteLength);\n",
              "  }\n",
              "\n",
              "  // All done.\n",
              "  yield {\n",
              "    response: {\n",
              "      action: 'complete',\n",
              "    }\n",
              "  };\n",
              "}\n",
              "\n",
              "scope.google = scope.google || {};\n",
              "scope.google.colab = scope.google.colab || {};\n",
              "scope.google.colab._files = {\n",
              "  _uploadFiles,\n",
              "  _uploadFilesContinue,\n",
              "};\n",
              "})(self);\n",
              "</script> "
            ]
          },
          "metadata": {}
        },
        {
          "output_type": "stream",
          "name": "stdout",
          "text": [
            "Saving llm_testbench_colab.zip to llm_testbench_colab (1).zip\n",
            "replace requirements.txt? [y]es, [n]o, [A]ll, [N]one, [r]ename: y\n",
            "replace .env? [y]es, [n]o, [A]ll, [N]one, [r]ename: y\n",
            "replace requirements_colab.txt? [y]es, [n]o, [A]ll, [N]one, [r]ename: y\n",
            "replace utils/data_utils.py? [y]es, [n]o, [A]ll, [N]one, [r]ename: y\n",
            "replace utils/verilog_utils.py? [y]es, [n]o, [A]ll, [N]one, [r]ename: y\n",
            "replace utils/__pycache__/verilog_utils.cpython-311.pyc? [y]es, [n]o, [A]ll, [N]one, [r]ename: y\n",
            "replace utils/__pycache__/data_utils.cpython-311.pyc? [y]es, [n]o, [A]ll, [N]one, [r]ename: y\n",
            "replace configs/config.yaml? [y]es, [n]o, [A]ll, [N]one, [r]ename: y\n",
            "replace scripts/prepare_for_colab.py? [y]es, [n]o, [A]ll, [N]one, [r]ename: y\n",
            "replace scripts/download_data.py? [y]es, [n]o, [A]ll, [N]one, [r]ename: y\n",
            "replace scripts/train.py? [y]es, [n]o, [A]ll, [N]one, [r]ename: y\n",
            "replace scripts/analyze_dataset.py? [y]es, [n]o, [A]ll, [N]one, [r]ename: y\n",
            "replace scripts/process_data.py? [y]es, [n]o, [A]ll, [N]one, [r]ename: y\n",
            "replace scripts/evaluate.py? [y]es, [n]o, [A]ll, [N]one, [r]ename: y\n",
            "replace scripts/check_imports.py? [y]es, [n]o, [A]ll, [N]one, [r]ename: y\n",
            "replace scripts/augment_data.py? [y]es, [n]o, [A]ll, [N]one, [r]ename: y\n",
            "replace data/processed/.gitkeep? [y]es, [n]o, [A]ll, [N]one, [r]ename: y\n",
            "replace data/processed/new_examples.jsonl? [y]es, [n]o, [A]ll, [N]one, [r]ename: y\n",
            "replace data/processed/test/test.jsonl? [y]es, [n]o, [A]ll, [N]one, [r]ename: y\n",
            "replace data/processed/train/train_original.jsonl? [y]es, [n]o, [A]ll, [N]one, [r]ename: y\n",
            "replace data/processed/train/train.jsonl? [y]es, [n]o, [A]ll, [N]one, [r]ename: y\n",
            "replace data/processed/val/val.jsonl? [y]es, [n]o, [A]ll, [N]one, [r]ename: y\n",
            "replace notebooks/train_on_colab.ipynb? [y]es, [n]o, [A]ll, [N]one, [r]ename: y\n",
            "total 229412\n",
            "drwxr-xr-x 1 root root      4096 Aug 12 01:29  .\n",
            "drwxr-xr-x 1 root root      4096 Aug 12 00:18  ..\n",
            "drwxr-xr-x 4 root root      4096 Aug  8 20:22  .config\n",
            "drwxr-xr-x 2 root root      4096 Aug 12 01:29  configs\n",
            "drwxr-xr-x 4 root root      4096 Aug 12 00:57  data\n",
            "-rw-r--r-- 1 root root       177 Aug 10 23:07  .env\n",
            "-rw-r--r-- 1 root root     82408 Aug 12 01:29 'llm_testbench_colab (1).zip'\n",
            "-rw-r--r-- 1 root root     80617 Aug 12 00:45  llm_testbench_colab.zip\n",
            "drwxr-xr-x 3 root root      4096 Aug 12 00:48  models\n",
            "drwxr-xr-x 2 root root      4096 Aug 12 01:30  notebooks\n",
            "-rw-r--r-- 1 root root       159 Aug 11 20:42  requirements_colab.txt\n",
            "-rw-r--r-- 1 root root       736 Aug 10 23:33  requirements.txt\n",
            "drwxr-xr-x 1 root root      4096 Aug  8 20:22  sample_data\n",
            "drwxr-xr-x 2 root root      4096 Aug 12 01:30  scripts\n",
            "-rw-r--r-- 1 root root 234686659 Aug 12 00:52  trained_model.zip\n",
            "drwxr-xr-x 3 root root      4096 Aug 12 01:29  utils\n",
            "drwxr-xr-x 4 root root      4096 Aug 12 00:48  wandb\n"
          ]
        }
      ]
    },
    {
      "cell_type": "markdown",
      "metadata": {
        "id": "install_header"
      },
      "source": [
        "## 4. Install Dependencies"
      ]
    },
    {
      "cell_type": "code",
      "source": [
        "# Install requirements\n",
        "!pip install -q -r requirements_colab.txt\n",
        "\n",
        "# Verify installations\n",
        "!pip list | grep -E \"torch|transformers|peft|bitsandbytes\""
      ],
      "metadata": {
        "colab": {
          "base_uri": "https://localhost:8080/"
        },
        "id": "GsBAILCsbSE0",
        "outputId": "47202d82-67f4-42f5-fb67-00091fa78ea0"
      },
      "execution_count": 5,
      "outputs": [
        {
          "output_type": "stream",
          "name": "stdout",
          "text": [
            "\u001b[2K   \u001b[90m━━━━━━━━━━━━━━━━━━━━━━━━━━━━━━━━━━━━━━━━\u001b[0m \u001b[32m363.4/363.4 MB\u001b[0m \u001b[31m3.0 MB/s\u001b[0m eta \u001b[36m0:00:00\u001b[0m\n",
            "\u001b[2K   \u001b[90m━━━━━━━━━━━━━━━━━━━━━━━━━━━━━━━━━━━━━━━━\u001b[0m \u001b[32m13.8/13.8 MB\u001b[0m \u001b[31m116.2 MB/s\u001b[0m eta \u001b[36m0:00:00\u001b[0m\n",
            "\u001b[2K   \u001b[90m━━━━━━━━━━━━━━━━━━━━━━━━━━━━━━━━━━━━━━━━\u001b[0m \u001b[32m24.6/24.6 MB\u001b[0m \u001b[31m93.9 MB/s\u001b[0m eta \u001b[36m0:00:00\u001b[0m\n",
            "\u001b[2K   \u001b[90m━━━━━━━━━━━━━━━━━━━━━━━━━━━━━━━━━━━━━━━━\u001b[0m \u001b[32m883.7/883.7 kB\u001b[0m \u001b[31m55.6 MB/s\u001b[0m eta \u001b[36m0:00:00\u001b[0m\n",
            "\u001b[2K   \u001b[90m━━━━━━━━━━━━━━━━━━━━━━━━━━━━━━━━━━━━━━━━\u001b[0m \u001b[32m664.8/664.8 MB\u001b[0m \u001b[31m1.7 MB/s\u001b[0m eta \u001b[36m0:00:00\u001b[0m\n",
            "\u001b[2K   \u001b[90m━━━━━━━━━━━━━━━━━━━━━━━━━━━━━━━━━━━━━━━━\u001b[0m \u001b[32m211.5/211.5 MB\u001b[0m \u001b[31m11.6 MB/s\u001b[0m eta \u001b[36m0:00:00\u001b[0m\n",
            "\u001b[2K   \u001b[90m━━━━━━━━━━━━━━━━━━━━━━━━━━━━━━━━━━━━━━━━\u001b[0m \u001b[32m56.3/56.3 MB\u001b[0m \u001b[31m41.9 MB/s\u001b[0m eta \u001b[36m0:00:00\u001b[0m\n",
            "\u001b[2K   \u001b[90m━━━━━━━━━━━━━━━━━━━━━━━━━━━━━━━━━━━━━━━━\u001b[0m \u001b[32m127.9/127.9 MB\u001b[0m \u001b[31m19.3 MB/s\u001b[0m eta \u001b[36m0:00:00\u001b[0m\n",
            "\u001b[2K   \u001b[90m━━━━━━━━━━━━━━━━━━━━━━━━━━━━━━━━━━━━━━━━\u001b[0m \u001b[32m207.5/207.5 MB\u001b[0m \u001b[31m3.3 MB/s\u001b[0m eta \u001b[36m0:00:00\u001b[0m\n",
            "\u001b[2K   \u001b[90m━━━━━━━━━━━━━━━━━━━━━━━━━━━━━━━━━━━━━━━━\u001b[0m \u001b[32m188.7/188.7 MB\u001b[0m \u001b[31m13.8 MB/s\u001b[0m eta \u001b[36m0:00:00\u001b[0m\n",
            "\u001b[2K   \u001b[90m━━━━━━━━━━━━━━━━━━━━━━━━━━━━━━━━━━━━━━━━\u001b[0m \u001b[32m21.1/21.1 MB\u001b[0m \u001b[31m98.9 MB/s\u001b[0m eta \u001b[36m0:00:00\u001b[0m\n",
            "\u001b[2K   \u001b[90m━━━━━━━━━━━━━━━━━━━━━━━━━━━━━━━━━━━━━━━━\u001b[0m \u001b[32m61.3/61.3 MB\u001b[0m \u001b[31m38.4 MB/s\u001b[0m eta \u001b[36m0:00:00\u001b[0m\n",
            "\u001b[?25hbitsandbytes                          0.47.0\n",
            "peft                                  0.17.0\n",
            "sentence-transformers                 5.0.0\n",
            "torch                                 2.6.0+cu124\n",
            "torchao                               0.10.0\n",
            "torchaudio                            2.6.0+cu124\n",
            "torchdata                             0.11.0\n",
            "torchsummary                          1.5.1\n",
            "torchtune                             0.6.1\n",
            "torchvision                           0.21.0+cu124\n",
            "transformers                          4.55.0\n"
          ]
        }
      ]
    },
    {
      "cell_type": "markdown",
      "metadata": {
        "id": "wandb_header"
      },
      "source": [
        "## 5. Configure Weights & Biases (Optional)"
      ]
    },
    {
      "cell_type": "code",
      "metadata": {
        "id": "setup_wandb",
        "colab": {
          "base_uri": "https://localhost:8080/",
          "height": 213
        },
        "outputId": "1dbaee4b-b1c6-4aad-d9ae-b1ac06d913ef"
      },
      "execution_count": 20,
      "outputs": [
        {
          "output_type": "display_data",
          "data": {
            "text/plain": [
              "<IPython.core.display.HTML object>"
            ],
            "text/html": [
              "Finishing previous runs because reinit is set to 'default'."
            ]
          },
          "metadata": {}
        },
        {
          "output_type": "display_data",
          "data": {
            "text/plain": [
              "<IPython.core.display.HTML object>"
            ],
            "text/html": []
          },
          "metadata": {}
        },
        {
          "output_type": "display_data",
          "data": {
            "text/plain": [
              "<IPython.core.display.HTML object>"
            ],
            "text/html": [
              " View run <strong style=\"color:#cdcd00\">colab-training-run</strong> at: <a href='https://wandb.ai/halgas-a-northeastern-university/llm-testbench-gen/runs/f22t7xes' target=\"_blank\">https://wandb.ai/halgas-a-northeastern-university/llm-testbench-gen/runs/f22t7xes</a><br> View project at: <a href='https://wandb.ai/halgas-a-northeastern-university/llm-testbench-gen' target=\"_blank\">https://wandb.ai/halgas-a-northeastern-university/llm-testbench-gen</a><br>Synced 5 W&B file(s), 0 media file(s), 0 artifact file(s) and 0 other file(s)"
            ]
          },
          "metadata": {}
        },
        {
          "output_type": "display_data",
          "data": {
            "text/plain": [
              "<IPython.core.display.HTML object>"
            ],
            "text/html": [
              "Find logs at: <code>./wandb/run-20250812_004721-f22t7xes/logs</code>"
            ]
          },
          "metadata": {}
        },
        {
          "output_type": "display_data",
          "data": {
            "text/plain": [
              "<IPython.core.display.HTML object>"
            ],
            "text/html": [
              "Tracking run with wandb version 0.21.0"
            ]
          },
          "metadata": {}
        },
        {
          "output_type": "display_data",
          "data": {
            "text/plain": [
              "<IPython.core.display.HTML object>"
            ],
            "text/html": [
              "Run data is saved locally in <code>/content/wandb/run-20250812_013044-fexqkzer</code>"
            ]
          },
          "metadata": {}
        },
        {
          "output_type": "display_data",
          "data": {
            "text/plain": [
              "<IPython.core.display.HTML object>"
            ],
            "text/html": [
              "Syncing run <strong><a href='https://wandb.ai/halgas-a-northeastern-university/llm-testbench-gen/runs/fexqkzer' target=\"_blank\">colab-training-run</a></strong> to <a href='https://wandb.ai/halgas-a-northeastern-university/llm-testbench-gen' target=\"_blank\">Weights & Biases</a> (<a href='https://wandb.me/developer-guide' target=\"_blank\">docs</a>)<br>"
            ]
          },
          "metadata": {}
        },
        {
          "output_type": "display_data",
          "data": {
            "text/plain": [
              "<IPython.core.display.HTML object>"
            ],
            "text/html": [
              " View project at <a href='https://wandb.ai/halgas-a-northeastern-university/llm-testbench-gen' target=\"_blank\">https://wandb.ai/halgas-a-northeastern-university/llm-testbench-gen</a>"
            ]
          },
          "metadata": {}
        },
        {
          "output_type": "display_data",
          "data": {
            "text/plain": [
              "<IPython.core.display.HTML object>"
            ],
            "text/html": [
              " View run at <a href='https://wandb.ai/halgas-a-northeastern-university/llm-testbench-gen/runs/fexqkzer' target=\"_blank\">https://wandb.ai/halgas-a-northeastern-university/llm-testbench-gen/runs/fexqkzer</a>"
            ]
          },
          "metadata": {}
        },
        {
          "output_type": "execute_result",
          "data": {
            "text/html": [
              "<button onClick=\"this.nextSibling.style.display='block';this.style.display='none';\">Display W&B run</button><iframe src='https://wandb.ai/halgas-a-northeastern-university/llm-testbench-gen/runs/fexqkzer?jupyter=true' style='border:none;width:100%;height:420px;display:none;'></iframe>"
            ],
            "text/plain": [
              "<wandb.sdk.wandb_run.Run at 0x7fb4643a2ad0>"
            ]
          },
          "metadata": {},
          "execution_count": 20
        }
      ],
      "source": [
        "# Set up wandb for experiment tracking\n",
        "import os\n",
        "import wandb\n",
        "\n",
        "# Set API key directly\n",
        "os.environ['WANDB_API_KEY'] = 'b29c0d2102aa226ead1fded36b786769f969d4f7'\n",
        "\n",
        "# Initialize wandb\n",
        "wandb.init(\n",
        "    project=\"llm-testbench-gen\",\n",
        "    name=\"colab-training-run\",\n",
        "    config={\n",
        "        \"model\": \"TinyLlama-1.1B\",\n",
        "        \"dataset\": \"AutoBench\",\n",
        "        \"epochs\": 10\n",
        "    }\n",
        ")"
      ]
    },
    {
      "cell_type": "markdown",
      "metadata": {
        "id": "config_header"
      },
      "source": [
        "## 6. Update Config for Colab GPU"
      ]
    },
    {
      "cell_type": "code",
      "metadata": {
        "id": "update_config",
        "colab": {
          "base_uri": "https://localhost:8080/"
        },
        "outputId": "b4acff5d-e07e-45cc-d15f-5ac3d8aa4f7c"
      },
      "execution_count": 21,
      "outputs": [
        {
          "output_type": "stream",
          "name": "stdout",
          "text": [
            "Config updated for Colab GPU training with improvements\n",
            "Learning rate: 0.0001 (type: <class 'float'>)\n",
            "Optimizer: adamw_torch\n",
            "Epochs: 10\n",
            "LoRA rank: 32\n",
            "Effective batch size: 16\n",
            "Total training examples: Check your augmented dataset size\n"
          ]
        }
      ],
      "source": [
        "# Create optimized config for Colab\n",
        "import yaml\n",
        "\n",
        "# Load existing config\n",
        "with open('configs/config.yaml', 'r') as f:\n",
        "    config = yaml.safe_load(f)\n",
        "\n",
        "# Update for GPU training with IMPROVED settings\n",
        "config['model']['quantization']['load_in_4bit'] = True  # Enable 4-bit quantization\n",
        "config['training']['per_device_train_batch_size'] = 2   # Smaller batch for better learning\n",
        "config['training']['per_device_eval_batch_size'] = 2    # Match train batch size\n",
        "config['training']['gradient_accumulation_steps'] = 8   # Increased for effective batch of 16\n",
        "config['training']['fp16'] = True  # Enable mixed precision\n",
        "config['training']['num_train_epochs'] = 10  # Increased from 5\n",
        "\n",
        "# Adjusted learning parameters\n",
        "config['training']['learning_rate'] = 1e-4   # Lowered from 2e-4 for more stable learning\n",
        "config['training']['warmup_steps'] = 50      # Increased from 10 for gradual warmup\n",
        "config['training']['warmup_ratio'] = 0.03    # Keep this\n",
        "config['training']['max_grad_norm'] = 0.3    # Keep this for gradient clipping\n",
        "\n",
        "# Improved LoRA configuration\n",
        "config['model']['lora']['r'] = 32                          # Increased from 16\n",
        "config['model']['lora']['lora_alpha'] = 64                 # Scaled with r (2x)\n",
        "config['model']['lora']['target_modules'] = [\"q_proj\", \"v_proj\", \"k_proj\", \"o_proj\"]  # Target all attention\n",
        "\n",
        "# Training schedule improvements\n",
        "config['training']['logging_steps'] = 2      # More frequent logging\n",
        "config['training']['save_steps'] = 20        # Save more frequently\n",
        "config['training']['eval_steps'] = 10        # Evaluate more often\n",
        "\n",
        "# Keep optimizer\n",
        "config['training']['optim'] = 'adamw_torch'\n",
        "\n",
        "# Save updated config\n",
        "with open('configs/config_colab.yaml', 'w') as f:\n",
        "    yaml.dump(config, f)\n",
        "\n",
        "print(\"Config updated for Colab GPU training with improvements\")\n",
        "print(f\"Learning rate: {config['training']['learning_rate']} (type: {type(config['training']['learning_rate'])})\")\n",
        "print(f\"Optimizer: {config['training']['optim']}\")\n",
        "print(f\"Epochs: {config['training']['num_train_epochs']}\")\n",
        "print(f\"LoRA rank: {config['model']['lora']['r']}\")\n",
        "print(f\"Effective batch size: {config['training']['per_device_train_batch_size'] * config['training']['gradient_accumulation_steps']}\")\n",
        "print(f\"Total training examples: Check your augmented dataset size\")"
      ]
    },
    {
      "cell_type": "markdown",
      "metadata": {
        "id": "train_header"
      },
      "source": [
        "## 7. Run Training"
      ]
    },
    {
      "cell_type": "code",
      "source": [
        "# Fix the train.py file directly in Colab\n",
        "!sed -i 's/evaluation_strategy=/eval_strategy=/g' /content/scripts/train.py\n",
        "\n",
        "# Verify the change was made\n",
        "!grep -n \"eval_strategy\" /content/scripts/train.py"
      ],
      "metadata": {
        "colab": {
          "base_uri": "https://localhost:8080/"
        },
        "id": "EewVbGdvfBD1",
        "outputId": "1d288f50-cb1d-43d4-9302-d814a4ffd478"
      },
      "execution_count": 22,
      "outputs": [
        {
          "output_type": "stream",
          "name": "stdout",
          "text": [
            "159:        eval_strategy=\"steps\",\n"
          ]
        }
      ]
    },
    {
      "cell_type": "code",
      "metadata": {
        "id": "run_training",
        "colab": {
          "base_uri": "https://localhost:8080/"
        },
        "outputId": "f1240391-6f6f-40e7-a3ba-247c65e44497"
      },
      "execution_count": 23,
      "outputs": [
        {
          "output_type": "stream",
          "name": "stdout",
          "text": [
            "2025-08-12 01:31:01.798232: I tensorflow/core/util/port.cc:153] oneDNN custom operations are on. You may see slightly different numerical results due to floating-point round-off errors from different computation orders. To turn them off, set the environment variable `TF_ENABLE_ONEDNN_OPTS=0`.\n",
            "2025-08-12 01:31:01.815575: E external/local_xla/xla/stream_executor/cuda/cuda_fft.cc:467] Unable to register cuFFT factory: Attempting to register factory for plugin cuFFT when one has already been registered\n",
            "WARNING: All log messages before absl::InitializeLog() is called are written to STDERR\n",
            "E0000 00:00:1754962261.836604   19302 cuda_dnn.cc:8579] Unable to register cuDNN factory: Attempting to register factory for plugin cuDNN when one has already been registered\n",
            "E0000 00:00:1754962261.843030   19302 cuda_blas.cc:1407] Unable to register cuBLAS factory: Attempting to register factory for plugin cuBLAS when one has already been registered\n",
            "W0000 00:00:1754962261.859529   19302 computation_placer.cc:177] computation placer already registered. Please check linkage and avoid linking the same target more than once.\n",
            "W0000 00:00:1754962261.859556   19302 computation_placer.cc:177] computation placer already registered. Please check linkage and avoid linking the same target more than once.\n",
            "W0000 00:00:1754962261.859559   19302 computation_placer.cc:177] computation placer already registered. Please check linkage and avoid linking the same target more than once.\n",
            "W0000 00:00:1754962261.859562   19302 computation_placer.cc:177] computation placer already registered. Please check linkage and avoid linking the same target more than once.\n",
            "2025-08-12 01:31:01.864315: I tensorflow/core/platform/cpu_feature_guard.cc:210] This TensorFlow binary is optimized to use available CPU instructions in performance-critical operations.\n",
            "To enable the following instructions: AVX2 AVX512F AVX512_VNNI FMA, in other operations, rebuild TensorFlow with the appropriate compiler flags.\n",
            "\u001b[34m\u001b[1mwandb\u001b[0m: Currently logged in as: \u001b[33mhalgas-a\u001b[0m (\u001b[33mhalgas-a-northeastern-university\u001b[0m) to \u001b[32mhttps://api.wandb.ai\u001b[0m. Use \u001b[1m`wandb login --relogin`\u001b[0m to force relogin\n",
            "\u001b[34m\u001b[1mwandb\u001b[0m: Tracking run with wandb version 0.21.0\n",
            "\u001b[34m\u001b[1mwandb\u001b[0m: Run data is saved locally in \u001b[35m\u001b[1m/content/wandb/run-20250812_013106-eh3l54x7\u001b[0m\n",
            "\u001b[34m\u001b[1mwandb\u001b[0m: Run \u001b[1m`wandb offline`\u001b[0m to turn off syncing.\n",
            "\u001b[34m\u001b[1mwandb\u001b[0m: Syncing run \u001b[33mtrain-TinyLlama-1.1B-Chat-v1.0\u001b[0m\n",
            "\u001b[34m\u001b[1mwandb\u001b[0m: ⭐️ View project at \u001b[34m\u001b[4mhttps://wandb.ai/halgas-a-northeastern-university/llm-testbench-gen\u001b[0m\n",
            "\u001b[34m\u001b[1mwandb\u001b[0m: 🚀 View run at \u001b[34m\u001b[4mhttps://wandb.ai/halgas-a-northeastern-university/llm-testbench-gen/runs/eh3l54x7\u001b[0m\n",
            "trainable params: 9,011,200 || all params: 1,109,059,584 || trainable%: 0.8125\n",
            "/content/scripts/train.py:217: FutureWarning: `tokenizer` is deprecated and will be removed in version 5.0.0 for `Trainer.__init__`. Use `processing_class` instead.\n",
            "  trainer = Trainer(\n",
            "  0% 0/30 [00:00<?, ?it/s]`use_cache=True` is incompatible with gradient checkpointing. Setting `use_cache=False`.\n",
            "{'loss': 0.8042, 'grad_norm': 0.5416343808174133, 'learning_rate': 0.0001, 'epoch': 0.84}\n",
            "{'loss': 0.6297, 'grad_norm': 0.4764498472213745, 'learning_rate': 0.0001, 'epoch': 1.42}\n",
            "{'loss': 0.7968, 'grad_norm': 0.5460025072097778, 'learning_rate': 0.0001, 'epoch': 2.0}\n",
            "{'loss': 0.5761, 'grad_norm': 0.347734659910202, 'learning_rate': 0.0001, 'epoch': 2.84}\n",
            "{'loss': 0.7069, 'grad_norm': 0.3449588119983673, 'learning_rate': 0.0001, 'epoch': 3.42}\n",
            " 33% 10/30 [01:15<02:28,  7.43s/it]\n",
            "  0% 0/3 [00:00<?, ?it/s]\u001b[A\n",
            " 67% 2/3 [00:00<00:00,  6.28it/s]\u001b[A\n",
            "                                   \n",
            "\u001b[A{'eval_loss': 0.6632483601570129, 'eval_runtime': 3.057, 'eval_samples_per_second': 1.963, 'eval_steps_per_second': 0.981, 'epoch': 3.42}\n",
            " 33% 10/30 [01:18<02:28,  7.43s/it]\n",
            "100% 3/3 [00:02<00:00,  4.51it/s]\u001b[A\n",
            "{'loss': 0.6251, 'grad_norm': 0.46793437004089355, 'learning_rate': 0.0001, 'epoch': 4.0}\n",
            "{'loss': 0.4959, 'grad_norm': 0.3809663951396942, 'learning_rate': 0.0001, 'epoch': 4.84}\n",
            "{'loss': 0.4366, 'grad_norm': 0.6077482104301453, 'learning_rate': 0.0001, 'epoch': 5.42}\n",
            "{'loss': 0.3897, 'grad_norm': 0.5512844324111938, 'learning_rate': 0.0001, 'epoch': 6.0}\n",
            "{'loss': 0.3943, 'grad_norm': 0.42186710238456726, 'learning_rate': 0.0001, 'epoch': 6.84}\n",
            " 67% 20/30 [02:33<01:19,  7.99s/it]\n",
            "  0% 0/3 [00:00<?, ?it/s]\u001b[A\n",
            " 67% 2/3 [00:00<00:00,  6.29it/s]\u001b[A\n",
            "                                   \n",
            "\u001b[A{'eval_loss': 0.4146334230899811, 'eval_runtime': 3.0608, 'eval_samples_per_second': 1.96, 'eval_steps_per_second': 0.98, 'epoch': 6.84}\n",
            " 67% 20/30 [02:36<01:19,  7.99s/it]\n",
            "100% 3/3 [00:02<00:00,  4.52it/s]\u001b[A\n",
            "{'loss': 0.2847, 'grad_norm': 0.45676153898239136, 'learning_rate': 0.0001, 'epoch': 7.42}\n",
            "{'loss': 0.2641, 'grad_norm': 1.0053155422210693, 'learning_rate': 0.0001, 'epoch': 8.0}\n",
            "{'loss': 0.2531, 'grad_norm': 0.4729544520378113, 'learning_rate': 0.0001, 'epoch': 8.84}\n",
            "{'loss': 0.2474, 'grad_norm': 0.37881213426589966, 'learning_rate': 0.0001, 'epoch': 9.42}\n",
            "{'loss': 0.2274, 'grad_norm': 0.6274333000183105, 'learning_rate': 0.0001, 'epoch': 10.0}\n",
            "100% 30/30 [03:46<00:00,  6.65s/it]\n",
            "  0% 0/3 [00:00<?, ?it/s]\u001b[A\n",
            " 67% 2/3 [00:00<00:00,  6.28it/s]\u001b[A\n",
            "                                   \n",
            "\u001b[A{'eval_loss': 0.21997900307178497, 'eval_runtime': 3.0724, 'eval_samples_per_second': 1.953, 'eval_steps_per_second': 0.976, 'epoch': 10.0}\n",
            "100% 30/30 [03:50<00:00,  6.65s/it]\n",
            "100% 3/3 [00:02<00:00,  4.52it/s]\u001b[A\n",
            "{'train_runtime': 230.7434, 'train_samples_per_second': 1.647, 'train_steps_per_second': 0.13, 'train_loss': 0.47545740803082787, 'epoch': 10.0}\n",
            "100% 30/30 [03:50<00:00,  7.69s/it]\n",
            "\n",
            "==================================================\n",
            "Training Complete!\n",
            "==================================================\n",
            "Final loss: 0.47545740803082787\n",
            "Total training time: 230.7434 seconds\n",
            "\n",
            "Next step: Run 'python scripts/evaluate.py' to evaluate the model\n"
          ]
        }
      ],
      "source": [
        "# Set config file\n",
        "!cp configs/config_colab.yaml configs/config.yaml\n",
        "\n",
        "# Run training\n",
        "!python scripts/train.py"
      ]
    },
    {
      "cell_type": "markdown",
      "metadata": {
        "id": "save_header"
      },
      "source": [
        "## 8. Save Trained Model"
      ]
    },
    {
      "cell_type": "code",
      "metadata": {
        "id": "compress_model",
        "colab": {
          "base_uri": "https://localhost:8080/"
        },
        "outputId": "df5a0826-1672-42e7-fba7-a6fda8adaf01"
      },
      "execution_count": 24,
      "outputs": [
        {
          "output_type": "stream",
          "name": "stdout",
          "text": [
            "updating: adapter_config.json (deflated 56%)\n",
            "updating: adapter_model.safetensors (deflated 8%)\n",
            "updating: chat_template.jinja (deflated 60%)\n",
            "updating: checkpoint-20/ (stored 0%)\n",
            "updating: checkpoint-20/tokenizer.model (deflated 55%)\n",
            "updating: checkpoint-20/rng_state.pth (deflated 25%)\n",
            "updating: checkpoint-20/tokenizer_config.json (deflated 69%)\n",
            "updating: checkpoint-20/scaler.pt (deflated 60%)\n",
            "updating: checkpoint-20/training_args.bin (deflated 51%)\n",
            "updating: checkpoint-20/README.md (deflated 66%)\n",
            "updating: checkpoint-20/optimizer.pt (deflated 8%)\n",
            "updating: checkpoint-20/special_tokens_map.json (deflated 73%)\n",
            "updating: checkpoint-20/adapter_config.json (deflated 56%)\n",
            "updating: checkpoint-20/chat_template.jinja (deflated 60%)\n",
            "updating: checkpoint-20/scheduler.pt (deflated 58%)\n",
            "updating: checkpoint-20/tokenizer.json (deflated 85%)\n",
            "updating: checkpoint-20/trainer_state.json (deflated 73%)\n",
            "updating: checkpoint-20/adapter_model.safetensors (deflated 8%)\n",
            "updating: checkpoint-30/ (stored 0%)\n",
            "updating: checkpoint-30/tokenizer.model (deflated 55%)\n",
            "updating: checkpoint-30/rng_state.pth (deflated 25%)\n",
            "updating: checkpoint-30/tokenizer_config.json (deflated 69%)\n",
            "updating: checkpoint-30/scaler.pt (deflated 60%)\n",
            "updating: checkpoint-30/training_args.bin (deflated 51%)\n",
            "updating: checkpoint-30/README.md (deflated 66%)\n",
            "updating: checkpoint-30/optimizer.pt (deflated 8%)\n",
            "updating: checkpoint-30/special_tokens_map.json (deflated 73%)\n",
            "updating: checkpoint-30/adapter_config.json (deflated 56%)\n",
            "updating: checkpoint-30/chat_template.jinja (deflated 60%)\n",
            "updating: checkpoint-30/scheduler.pt (deflated 58%)\n",
            "updating: checkpoint-30/tokenizer.json (deflated 85%)\n",
            "updating: checkpoint-30/trainer_state.json (deflated 76%)\n",
            "updating: checkpoint-30/adapter_model.safetensors (deflated 8%)\n",
            "updating: README.md (deflated 66%)\n",
            "updating: special_tokens_map.json (deflated 73%)\n",
            "updating: tokenizer_config.json (deflated 69%)\n",
            "updating: tokenizer.json (deflated 85%)\n",
            "updating: tokenizer.model (deflated 55%)\n",
            "updating: training_args.bin (deflated 51%)\n",
            "updating: training_results.json (deflated 33%)\n",
            "-rw-r--r-- 1 root root 224M Aug 12 01:35 trained_model.zip\n"
          ]
        }
      ],
      "source": [
        "# Compress the trained model\n",
        "!cd models/checkpoints && zip -r /content/trained_model.zip * && cd /content\n",
        "!ls -lh trained_model.zip"
      ]
    },
    {
      "cell_type": "code",
      "metadata": {
        "id": "download_model",
        "colab": {
          "base_uri": "https://localhost:8080/",
          "height": 17
        },
        "outputId": "f93ea612-431f-426b-8fdd-0fbc2c3f08bd"
      },
      "execution_count": 25,
      "outputs": [
        {
          "output_type": "display_data",
          "data": {
            "text/plain": [
              "<IPython.core.display.Javascript object>"
            ],
            "application/javascript": [
              "\n",
              "    async function download(id, filename, size) {\n",
              "      if (!google.colab.kernel.accessAllowed) {\n",
              "        return;\n",
              "      }\n",
              "      const div = document.createElement('div');\n",
              "      const label = document.createElement('label');\n",
              "      label.textContent = `Downloading \"${filename}\": `;\n",
              "      div.appendChild(label);\n",
              "      const progress = document.createElement('progress');\n",
              "      progress.max = size;\n",
              "      div.appendChild(progress);\n",
              "      document.body.appendChild(div);\n",
              "\n",
              "      const buffers = [];\n",
              "      let downloaded = 0;\n",
              "\n",
              "      const channel = await google.colab.kernel.comms.open(id);\n",
              "      // Send a message to notify the kernel that we're ready.\n",
              "      channel.send({})\n",
              "\n",
              "      for await (const message of channel.messages) {\n",
              "        // Send a message to notify the kernel that we're ready.\n",
              "        channel.send({})\n",
              "        if (message.buffers) {\n",
              "          for (const buffer of message.buffers) {\n",
              "            buffers.push(buffer);\n",
              "            downloaded += buffer.byteLength;\n",
              "            progress.value = downloaded;\n",
              "          }\n",
              "        }\n",
              "      }\n",
              "      const blob = new Blob(buffers, {type: 'application/binary'});\n",
              "      const a = document.createElement('a');\n",
              "      a.href = window.URL.createObjectURL(blob);\n",
              "      a.download = filename;\n",
              "      div.appendChild(a);\n",
              "      a.click();\n",
              "      div.remove();\n",
              "    }\n",
              "  "
            ]
          },
          "metadata": {}
        },
        {
          "output_type": "display_data",
          "data": {
            "text/plain": [
              "<IPython.core.display.Javascript object>"
            ],
            "application/javascript": [
              "download(\"download_356ca24c-af2d-4b96-9619-a8f6ad1aa61f\", \"trained_model.zip\", 234675792)"
            ]
          },
          "metadata": {}
        }
      ],
      "source": [
        "# Download to local computer\n",
        "from google.colab import files\n",
        "files.download('trained_model.zip')"
      ]
    },
    {
      "cell_type": "markdown",
      "source": [
        "## 9. Install Icarus Verilog for Testing\n"
      ],
      "metadata": {
        "id": "ZqeA-KLIqClN"
      }
    },
    {
      "cell_type": "code",
      "source": [
        "# Install Icarus Verilog for compilation tests\n",
        "!apt-get update\n",
        "!apt-get install -y iverilog\n",
        "!iverilog -version"
      ],
      "metadata": {
        "colab": {
          "base_uri": "https://localhost:8080/"
        },
        "id": "V_jBGOAFqCCC",
        "outputId": "c3302b48-1e52-413f-8017-b704e61b9be6"
      },
      "execution_count": 12,
      "outputs": [
        {
          "output_type": "stream",
          "name": "stdout",
          "text": [
            "\r0% [Working]\r            \rHit:1 http://archive.ubuntu.com/ubuntu jammy InRelease\n",
            "\r0% [Waiting for headers] [Waiting for headers] [Connecting to r2u.stat.illinois\r                                                                               \rGet:2 http://security.ubuntu.com/ubuntu jammy-security InRelease [129 kB]\n",
            "\r0% [Waiting for headers] [2 InRelease 14.2 kB/129 kB 11%] [Waiting for headers]\r                                                                               \rGet:3 https://cloud.r-project.org/bin/linux/ubuntu jammy-cran40/ InRelease [3,632 B]\n",
            "\r0% [Waiting for headers] [2 InRelease 14.2 kB/129 kB 11%] [3 InRelease 3,632 B/\r0% [Waiting for headers] [2 InRelease 14.2 kB/129 kB 11%] [Connecting to r2u.st\r                                                                               \rGet:4 http://archive.ubuntu.com/ubuntu jammy-updates InRelease [128 kB]\n",
            "Get:5 https://developer.download.nvidia.com/compute/cuda/repos/ubuntu2204/x86_64  InRelease [1,581 B]\n",
            "Get:6 http://archive.ubuntu.com/ubuntu jammy-backports InRelease [127 kB]\n",
            "Hit:7 https://r2u.stat.illinois.edu/ubuntu jammy InRelease\n",
            "Get:8 https://developer.download.nvidia.com/compute/cuda/repos/ubuntu2204/x86_64  Packages [1,927 kB]\n",
            "Hit:9 https://ppa.launchpadcontent.net/deadsnakes/ppa/ubuntu jammy InRelease\n",
            "Get:10 http://security.ubuntu.com/ubuntu jammy-security/restricted amd64 Packages [5,111 kB]\n",
            "Hit:11 https://ppa.launchpadcontent.net/graphics-drivers/ppa/ubuntu jammy InRelease\n",
            "Get:12 http://archive.ubuntu.com/ubuntu jammy-updates/restricted amd64 Packages [5,299 kB]\n",
            "Hit:13 https://ppa.launchpadcontent.net/ubuntugis/ppa/ubuntu jammy InRelease\n",
            "Get:14 http://security.ubuntu.com/ubuntu jammy-security/main amd64 Packages [3,209 kB]\n",
            "Get:15 http://archive.ubuntu.com/ubuntu jammy-updates/main amd64 Packages [3,520 kB]\n",
            "Fetched 19.5 MB in 2s (12.2 MB/s)\n",
            "Reading package lists... Done\n",
            "W: Skipping acquire of configured file 'main/source/Sources' as repository 'https://r2u.stat.illinois.edu/ubuntu jammy InRelease' does not seem to provide it (sources.list entry misspelt?)\n",
            "Reading package lists... Done\n",
            "Building dependency tree... Done\n",
            "Reading state information... Done\n",
            "Suggested packages:\n",
            "  gtkwave\n",
            "The following NEW packages will be installed:\n",
            "  iverilog\n",
            "0 upgraded, 1 newly installed, 0 to remove and 35 not upgraded.\n",
            "Need to get 2,130 kB of archives.\n",
            "After this operation, 6,749 kB of additional disk space will be used.\n",
            "Get:1 http://archive.ubuntu.com/ubuntu jammy/universe amd64 iverilog amd64 11.0-1.1 [2,130 kB]\n",
            "Fetched 2,130 kB in 0s (8,538 kB/s)\n",
            "Selecting previously unselected package iverilog.\n",
            "(Reading database ... 126284 files and directories currently installed.)\n",
            "Preparing to unpack .../iverilog_11.0-1.1_amd64.deb ...\n",
            "Unpacking iverilog (11.0-1.1) ...\n",
            "Setting up iverilog (11.0-1.1) ...\n",
            "Processing triggers for man-db (2.10.2-1) ...\n",
            "iverilog: invalid option -- 'e'\n"
          ]
        }
      ]
    },
    {
      "cell_type": "markdown",
      "source": [
        "## 10. Run Evaluation"
      ],
      "metadata": {
        "id": "UU_7U4WnqJg2"
      }
    },
    {
      "cell_type": "code",
      "source": [
        "# Create the evaluation script if it doesn't exist\n",
        "!cp /content/scripts/evaluate.py /content/scripts/evaluate_colab.py || echo \"Creating new evaluation script\"\n",
        "\n",
        "# If evaluate.py doesn't exist, download it\n",
        "if not os.path.exists('/content/scripts/evaluate.py'):\n",
        "    print(\"Downloading evaluation script...\")\n",
        "    # You can paste the evaluate.py content here or upload it"
      ],
      "metadata": {
        "id": "RVyPhTRVqKat"
      },
      "execution_count": 26,
      "outputs": []
    },
    {
      "cell_type": "code",
      "source": [
        "# Run evaluation on the trained model\n",
        "!python scripts/evaluate.py\n",
        "\n",
        "# Check results\n",
        "!ls -la data/test_results/"
      ],
      "metadata": {
        "colab": {
          "base_uri": "https://localhost:8080/"
        },
        "id": "z_K1LfaIrHF-",
        "outputId": "e8cbb98a-7246-4043-b642-6cc1d261ca02"
      },
      "execution_count": 27,
      "outputs": [
        {
          "output_type": "stream",
          "name": "stdout",
          "text": [
            "2025-08-12 01:36:14.513118: I tensorflow/core/util/port.cc:153] oneDNN custom operations are on. You may see slightly different numerical results due to floating-point round-off errors from different computation orders. To turn them off, set the environment variable `TF_ENABLE_ONEDNN_OPTS=0`.\n",
            "2025-08-12 01:36:14.530413: E external/local_xla/xla/stream_executor/cuda/cuda_fft.cc:467] Unable to register cuFFT factory: Attempting to register factory for plugin cuFFT when one has already been registered\n",
            "WARNING: All log messages before absl::InitializeLog() is called are written to STDERR\n",
            "E0000 00:00:1754962574.551244   20736 cuda_dnn.cc:8579] Unable to register cuDNN factory: Attempting to register factory for plugin cuDNN when one has already been registered\n",
            "E0000 00:00:1754962574.557793   20736 cuda_blas.cc:1407] Unable to register cuBLAS factory: Attempting to register factory for plugin cuBLAS when one has already been registered\n",
            "W0000 00:00:1754962574.574147   20736 computation_placer.cc:177] computation placer already registered. Please check linkage and avoid linking the same target more than once.\n",
            "W0000 00:00:1754962574.574180   20736 computation_placer.cc:177] computation placer already registered. Please check linkage and avoid linking the same target more than once.\n",
            "W0000 00:00:1754962574.574183   20736 computation_placer.cc:177] computation placer already registered. Please check linkage and avoid linking the same target more than once.\n",
            "W0000 00:00:1754962574.574185   20736 computation_placer.cc:177] computation placer already registered. Please check linkage and avoid linking the same target more than once.\n",
            "2025-08-12 01:36:14.578875: I tensorflow/core/platform/cpu_feature_guard.cc:210] This TensorFlow binary is optimized to use available CPU instructions in performance-critical operations.\n",
            "To enable the following instructions: AVX2 AVX512F AVX512_VNNI FMA, in other operations, rebuild TensorFlow with the appropriate compiler flags.\n",
            "Evaluating:  12% 1/8 [00:06<00:43,  6.20s/it]This is a friendly reminder - the current text generation call will exceed the model's predefined maximum length (2048). Depending on the model, you may observe exceptions, performance degradation, or nothing at all.\n",
            "Evaluating: 100% 8/8 [07:22<00:00, 55.32s/it]\n",
            "\n",
            "============================================================\n",
            "EVALUATION RESULTS\n",
            "============================================================\n",
            "Total examples evaluated: 8\n",
            "\n",
            "Success Rates:\n",
            "  Generation: 100.0%\n",
            "  Compilation: 0.0%\n",
            "  Simulation: 0.0%\n",
            "  Valid Syntax: 0.0%\n",
            "\n",
            "Component Presence:\n",
            "  timescale: 100.0%\n",
            "  module: 100.0%\n",
            "  initial: 100.0%\n",
            "  finish: 75.0%\n",
            "  display: 62.5%\n",
            "\n",
            "Detailed results saved to: data/test_results\n",
            "\n",
            "Next step: Run 'python scripts/generate.py --dut_file <your_design.v>' to generate testbenches for new designs\n",
            "total 120\n",
            "drwxr-xr-x 2 root root  4096 Aug 12 01:01 .\n",
            "drwxr-xr-x 4 root root  4096 Aug 12 00:57 ..\n",
            "-rw-r--r-- 1 root root 61871 Aug 12 01:43 evaluation_results.json\n",
            "-rw-r--r-- 1 root root   343 Aug 12 01:01 generated_tb_0_fixed.v\n",
            "-rw-r--r-- 1 root root   316 Aug 12 01:43 generated_tb_0.v\n",
            "-rw-r--r-- 1 root root  4924 Aug 12 01:43 generated_tb_1.v\n",
            "-rw-r--r-- 1 root root  1591 Aug 12 01:01 generated_tb_2_fixed.v\n",
            "-rw-r--r-- 1 root root  3723 Aug 12 01:43 generated_tb_2.v\n",
            "-rw-r--r-- 1 root root   594 Aug 12 01:43 generated_tb_3.v\n",
            "-rw-r--r-- 1 root root  3551 Aug 12 01:43 generated_tb_4.v\n",
            "-rw-r--r-- 1 root root  6608 Aug 12 01:43 generated_tb_5.v\n",
            "-rw-r--r-- 1 root root   944 Aug 12 01:43 generated_tb_6.v\n",
            "-rw-r--r-- 1 root root  2928 Aug 12 01:43 generated_tb_7.v\n"
          ]
        }
      ]
    },
    {
      "cell_type": "code",
      "source": [
        "# Load and display evaluation results\n",
        "import json\n",
        "\n",
        "with open('data/test_results/evaluation_results.json', 'r') as f:\n",
        "    results = json.load(f)\n",
        "\n",
        "print(\"Evaluation Metrics:\")\n",
        "print(\"=\"*50)\n",
        "for metric, value in results['metrics'].items():\n",
        "    if isinstance(value, float):\n",
        "        print(f\"{metric}: {value:.2%}\")\n",
        "    else:\n",
        "        print(f\"{metric}: {value}\")"
      ],
      "metadata": {
        "colab": {
          "base_uri": "https://localhost:8080/"
        },
        "id": "3xxv7DQOrJsA",
        "outputId": "dd0f567b-b1f9-446d-a28a-530956b8666f"
      },
      "execution_count": 29,
      "outputs": [
        {
          "output_type": "stream",
          "name": "stdout",
          "text": [
            "Evaluation Metrics:\n",
            "==================================================\n",
            "total_examples: 8\n",
            "generation_success_rate: 100.00%\n",
            "compilation_success_rate: 0.00%\n",
            "simulation_success_rate: 0.00%\n",
            "syntax_valid_rate: 0.00%\n",
            "has_timescale_rate: 100.00%\n",
            "has_module_rate: 100.00%\n",
            "has_initial_rate: 100.00%\n",
            "has_finish_rate: 75.00%\n",
            "has_display_rate: 62.50%\n"
          ]
        }
      ]
    },
    {
      "cell_type": "code",
      "source": [
        "# View a sample generated testbench\n",
        "import random\n",
        "\n",
        "# List generated files\n",
        "import glob\n",
        "tb_files = glob.glob('data/test_results/generated_tb_*.v')\n",
        "\n",
        "if tb_files:\n",
        "    # Pick a random one to display\n",
        "    sample_file = random.choice(tb_files)\n",
        "    print(f\"Viewing: {sample_file}\")\n",
        "    print(\"=\"*60)\n",
        "\n",
        "    with open(sample_file, 'r') as f:\n",
        "        print(f.read())\n",
        "else:\n",
        "    print(\"No generated testbenches found\")"
      ],
      "metadata": {
        "colab": {
          "base_uri": "https://localhost:8080/"
        },
        "id": "Y2YFgpRArLns",
        "outputId": "f0040ffa-b570-450b-8a95-203d1cd534d6"
      },
      "execution_count": 30,
      "outputs": [
        {
          "output_type": "stream",
          "name": "stdout",
          "text": [
            "Viewing: data/test_results/generated_tb_6.v\n",
            "============================================================\n",
            "`timescale 1ns / 1ps module tb;\n",
            "reg [7:0] a;\n",
            "reg [7:0] b;\n",
            "reg [7:0] c;\n",
            "reg [7:0] d;\n",
            "wire [7:0] min;\n",
            "top_module uut ( .a(a), .b(b), .c(c), .d(d), .min(min) );\n",
            "initial begin\n",
            "#10 $finish;\n",
            "end// Change: > changed to >= // Change: added output wire min;\n",
            "// Change: added input file uut.txt int main() { $display(\"Test: %s\", $time);\n",
            "a = 10;\n",
            "b = 20;\n",
            "c = 30;\n",
            "d = 40;\n",
            "#10 $finish;\n",
            "// Verification: Output = 10 #10 $finish;\n",
            "$display(\"Verification: %d\", min);\n",
            "// Change: changed > to >= min = 10;\n",
            "#10 $finish;\n",
            "$display(\"Verification: %d\", min);\n",
            "// Change: added output wire min;\n",
            "// Change: added input file uut.txt $display(\"Final Min: %d\", min);\n",
            "$finish;\n",
            "} ### Correctness: The testbench correctly initializes the inputs, generates the proper stimulus, and verifies the output. The changed statement \"> changed to >=\" ensures that the output is compared with the minimum value of the inputs (10 in this case) rather than the value of the last input (40).\n"
          ]
        }
      ]
    },
    {
      "cell_type": "code",
      "source": [
        "# Compress evaluation results\n",
        "!cd data/test_results && zip -r /content/evaluation_results.zip * && cd /content\n",
        "\n",
        "# Download\n",
        "from google.colab import files\n",
        "files.download('evaluation_results.zip')\n",
        "print(\"Evaluation results downloaded!\")"
      ],
      "metadata": {
        "colab": {
          "base_uri": "https://localhost:8080/",
          "height": 196
        },
        "id": "SblGOIcdtw6w",
        "outputId": "94d3bbad-fddf-4e33-8800-d550306c4a92"
      },
      "execution_count": null,
      "outputs": [
        {
          "output_type": "stream",
          "name": "stdout",
          "text": [
            "  adding: evaluation_results.json (deflated 95%)\n",
            "  adding: generated_tb_0.v (deflated 98%)\n",
            "  adding: generated_tb_1.v (deflated 93%)\n",
            "  adding: generated_tb_2.v (deflated 97%)\n",
            "  adding: generated_tb_3.v (deflated 93%)\n",
            "  adding: generated_tb_4.v (deflated 93%)\n",
            "  adding: generated_tb_5.v (deflated 92%)\n",
            "  adding: generated_tb_6.v (deflated 94%)\n",
            "  adding: generated_tb_7.v (deflated 94%)\n"
          ]
        },
        {
          "output_type": "display_data",
          "data": {
            "text/plain": [
              "<IPython.core.display.Javascript object>"
            ],
            "application/javascript": [
              "\n",
              "    async function download(id, filename, size) {\n",
              "      if (!google.colab.kernel.accessAllowed) {\n",
              "        return;\n",
              "      }\n",
              "      const div = document.createElement('div');\n",
              "      const label = document.createElement('label');\n",
              "      label.textContent = `Downloading \"${filename}\": `;\n",
              "      div.appendChild(label);\n",
              "      const progress = document.createElement('progress');\n",
              "      progress.max = size;\n",
              "      div.appendChild(progress);\n",
              "      document.body.appendChild(div);\n",
              "\n",
              "      const buffers = [];\n",
              "      let downloaded = 0;\n",
              "\n",
              "      const channel = await google.colab.kernel.comms.open(id);\n",
              "      // Send a message to notify the kernel that we're ready.\n",
              "      channel.send({})\n",
              "\n",
              "      for await (const message of channel.messages) {\n",
              "        // Send a message to notify the kernel that we're ready.\n",
              "        channel.send({})\n",
              "        if (message.buffers) {\n",
              "          for (const buffer of message.buffers) {\n",
              "            buffers.push(buffer);\n",
              "            downloaded += buffer.byteLength;\n",
              "            progress.value = downloaded;\n",
              "          }\n",
              "        }\n",
              "      }\n",
              "      const blob = new Blob(buffers, {type: 'application/binary'});\n",
              "      const a = document.createElement('a');\n",
              "      a.href = window.URL.createObjectURL(blob);\n",
              "      a.download = filename;\n",
              "      div.appendChild(a);\n",
              "      a.click();\n",
              "      div.remove();\n",
              "    }\n",
              "  "
            ]
          },
          "metadata": {}
        },
        {
          "output_type": "display_data",
          "data": {
            "text/plain": [
              "<IPython.core.display.Javascript object>"
            ],
            "application/javascript": [
              "download(\"download_e9137f5d-9c3b-4a6b-81ea-04f10f76d51e\", \"evaluation_results.zip\", 7313)"
            ]
          },
          "metadata": {}
        },
        {
          "output_type": "stream",
          "name": "stdout",
          "text": [
            "Evaluation results downloaded!\n"
          ]
        }
      ]
    },
    {
      "cell_type": "code",
      "source": [
        "# Analyze training data quality\n",
        "import json\n",
        "import re\n",
        "\n",
        "# Load training data\n",
        "with open('data/processed/train/train.jsonl', 'r') as f:\n",
        "    train_data = [json.loads(line) for line in f]\n",
        "\n",
        "print(f\"Total training examples: {len(train_data)}\")\n",
        "\n",
        "# Check for problematic patterns\n",
        "issues = {\n",
        "    'has_c_code': 0,\n",
        "    'has_initial_brace': 0,\n",
        "    'has_wrong_bit_width': 0,\n",
        "    'has_mixed_comments': 0,\n",
        "    'wire_assignment': 0\n",
        "}\n",
        "\n",
        "clean_examples = []\n",
        "problematic_indices = []\n",
        "\n",
        "for i, example in enumerate(train_data):\n",
        "    tb = example['testbench_code']\n",
        "    has_issue = False\n",
        "\n",
        "    # Check for C code\n",
        "    if 'int main' in tb or '#include' in tb:\n",
        "        issues['has_c_code'] += 1\n",
        "        has_issue = True\n",
        "\n",
        "    # Check for wrong initial syntax\n",
        "    if 'initial {' in tb:\n",
        "        issues['has_initial_brace'] += 1\n",
        "        has_issue = True\n",
        "\n",
        "    # Check for wrong bit widths\n",
        "    if re.search(r'\\d{2,}\\'b', tb):  # 10'b, 12'b, etc.\n",
        "        issues['has_wrong_bit_width'] += 1\n",
        "        has_issue = True\n",
        "\n",
        "    # Check for mixed comments/documentation\n",
        "    if '// Change:' in tb or '### Correctness:' in tb:\n",
        "        issues['has_mixed_comments'] += 1\n",
        "        has_issue = True\n",
        "\n",
        "    # Check for wire assignments in initial blocks\n",
        "    if re.search(r'initial.*?wire.*?=', tb, re.DOTALL):\n",
        "        issues['wire_assignment'] += 1\n",
        "        has_issue = True\n",
        "\n",
        "    if has_issue:\n",
        "        problematic_indices.append(i)\n",
        "    else:\n",
        "        clean_examples.append(example)\n",
        "\n",
        "print(\"\\nIssues found in training data:\")\n",
        "for issue, count in issues.items():\n",
        "    print(f\"  {issue}: {count} ({count/len(train_data)*100:.1f}%)\")\n",
        "\n",
        "print(f\"\\nClean examples: {len(clean_examples)} ({len(clean_examples)/len(train_data)*100:.1f}%)\")\n",
        "print(f\"Problematic examples: {len(problematic_indices)}\")\n",
        "\n",
        "# Save clean training data\n",
        "if clean_examples:\n",
        "    with open('data/processed/train/train_clean.jsonl', 'w') as f:\n",
        "        for example in clean_examples:\n",
        "            f.write(json.dumps(example) + '\\n')\n",
        "    print(f\"\\nClean training data saved to train_clean.jsonl\")"
      ],
      "metadata": {
        "id": "K0S_Ht7X-tPC",
        "outputId": "182510b5-9a7e-4b02-d559-89d5846da4dd",
        "colab": {
          "base_uri": "https://localhost:8080/"
        }
      },
      "execution_count": 32,
      "outputs": [
        {
          "output_type": "stream",
          "name": "stdout",
          "text": [
            "Total training examples: 38\n",
            "\n",
            "Issues found in training data:\n",
            "  has_c_code: 0 (0.0%)\n",
            "  has_initial_brace: 0 (0.0%)\n",
            "  has_wrong_bit_width: 0 (0.0%)\n",
            "  has_mixed_comments: 0 (0.0%)\n",
            "  wire_assignment: 11 (28.9%)\n",
            "\n",
            "Clean examples: 27 (71.1%)\n",
            "Problematic examples: 11\n",
            "\n",
            "Clean training data saved to train_clean.jsonl\n"
          ]
        }
      ]
    },
    {
      "cell_type": "code",
      "source": [
        "# Check what's actually in the training data responses\n",
        "import json\n",
        "\n",
        "with open('data/processed/train/train.jsonl', 'r') as f:\n",
        "    data = [json.loads(line) for line in f]\n",
        "\n",
        "# Look at a few response formats\n",
        "for i in range(min(3, len(data))):\n",
        "    print(f\"\\n{'='*60}\")\n",
        "    print(f\"Example {i} response format:\")\n",
        "    print(f\"{'='*60}\")\n",
        "    response = data[i]['response']\n",
        "    print(response[:500])\n",
        "\n",
        "    # Check for non-Verilog content\n",
        "    if \"```\" in response:\n",
        "        print(\"⚠️  Contains markdown\")\n",
        "    if \"Change:\" in response or \"###\" in response:\n",
        "        print(\"⚠️  Contains comments/analysis\")\n",
        "    if \"int main\" in response:\n",
        "        print(\"⚠️  Contains C code\")"
      ],
      "metadata": {
        "id": "CMojpglr_SAm",
        "outputId": "43a7fba0-b4c1-489b-c3dc-5b95dbf0f3d4",
        "colab": {
          "base_uri": "https://localhost:8080/"
        }
      },
      "execution_count": 33,
      "outputs": [
        {
          "output_type": "stream",
          "name": "stdout",
          "text": [
            "\n",
            "============================================================\n",
            "Example 0 response format:\n",
            "============================================================\n",
            "```verilog\n",
            "`timescale 1ns / 1ps\n",
            "\n",
            "module testbench;\n",
            "    reg [7:0] a, b, c, d;\n",
            "    wire [7:0] min;\n",
            "    integer file;\n",
            "\n",
            "    // Instantiate the Device Under Test (DUT)\n",
            "    top_module DUT (\n",
            "        .a(a),\n",
            "        .b(b),\n",
            "        .c(c),\n",
            "        .d(d),\n",
            "        .min(min)\n",
            "    );\n",
            "\n",
            "    initial begin\n",
            "        // Open the file for output\n",
            "        file = $fopen(\"TBout.txt\", \"w\");\n",
            "\n",
            "        // Scenario 1: All inputs are equal\n",
            "        a = 127; b = 127; c = 127; d = 127;\n",
            "        #10; // Wait for the output to stabili\n",
            "⚠️  Contains markdown\n",
            "\n",
            "============================================================\n",
            "Example 1 response format:\n",
            "============================================================\n",
            "```verilog\n",
            "`timescale 1ns / 1ps\n",
            "module testbench;\n",
            "reg  clk;\n",
            "reg  d;\n",
            "reg  ar;\n",
            "wire  q;\n",
            "\n",
            "integer file, scenario;\n",
            "// DUT instantiation\n",
            "top_module DUT (\n",
            "    .clk(clk),\n",
            "    .d(d),\n",
            "    .ar(ar),\n",
            "    .q(q)\n",
            ");\n",
            "// Clock generation\n",
            "initial begin\n",
            "    clk = 0;\n",
            "    forever #5 clk = ~clk;\n",
            "end\n",
            "\n",
            "initial begin\n",
            "    file = $fopen(\"TBout.txt\", \"w\");\n",
            "end\n",
            "// Scenario Based Test\n",
            "initial begin\n",
            "    // Scenario 1\n",
            "    scenario = 1;\n",
            "    ar = 1; d = 0;\n",
            "    $fdisplay(file, \"scenario: %d, clk = %d, d = %d, ar = %d, q = %d\", sc\n",
            "⚠️  Contains markdown\n",
            "\n",
            "============================================================\n",
            "Example 2 response format:\n",
            "============================================================\n",
            "```verilog\n",
            "`timescale 1ns / 1ps\n",
            "\n",
            "module testbench;\n",
            "    reg [7:0] a, b, c, d;\n",
            "    wire [7:0] min;\n",
            "    integer file;\n",
            "\n",
            "    // Instantiate the Device Under Test (DUT)\n",
            "    top_module DUT (\n",
            "        .a(a),\n",
            "        .b(b),\n",
            "        .c(c),\n",
            "        .d(d),\n",
            "        .min(min)\n",
            "    );\n",
            "\n",
            "    initial begin\n",
            "        // Open the file for output\n",
            "        file = $fopen(\"TBout.txt\", \"w\");\n",
            "\n",
            "        // Scenario 1: All inputs are equal\n",
            "        a = 127; b = 127; c = 127; d = 127;\n",
            "        #10; // Wait for the output to stabili\n",
            "⚠️  Contains markdown\n"
          ]
        }
      ]
    }
  ]
}