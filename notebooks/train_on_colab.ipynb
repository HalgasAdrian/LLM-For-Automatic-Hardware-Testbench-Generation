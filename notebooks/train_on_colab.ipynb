{
  "nbformat": 4,
  "nbformat_minor": 0,
  "metadata": {
    "colab": {
      "provenance": [],
      "gpuType": "T4",
      "machine_shape": "hm",
      "include_colab_link": true
    },
    "kernelspec": {
      "name": "python3",
      "display_name": "Python 3"
    },
    "language_info": {
      "name": "python"
    },
    "accelerator": "GPU"
  },
  "cells": [
    {
      "cell_type": "markdown",
      "metadata": {
        "id": "view-in-github",
        "colab_type": "text"
      },
      "source": [
        "<a href=\"https://colab.research.google.com/github/HalgasAdrian/LLM-For-Automatic-Hardware-Testbench-Generation/blob/main/notebooks/train_on_colab.ipynb\" target=\"_parent\"><img src=\"https://colab.research.google.com/assets/colab-badge.svg\" alt=\"Open In Colab\"/></a>"
      ]
    },
    {
      "cell_type": "markdown",
      "metadata": {
        "id": "header"
      },
      "source": [
        "# LLM Testbench Generation Training on Colab This notebook trains the model on Google Colab with GPU acceleration."
      ]
    },
    {
      "cell_type": "code",
      "source": [
        "# Check GPU availability\n",
        "!nvidia-smi\n",
        "\n",
        "import torch\n",
        "print(f\"PyTorch version: {torch.__version__}\")\n",
        "print(f\"CUDA available: {torch.cuda.is_available()}\")\n",
        "if torch.cuda.is_available():\n",
        "    print(f\"GPU: {torch.cuda.get_device_name(0)}\")"
      ],
      "metadata": {
        "colab": {
          "base_uri": "https://localhost:8080/"
        },
        "id": "TOwjhyHGa2L_",
        "outputId": "6b4fd513-18b6-4426-f0f1-1a711e6a2619"
      },
      "execution_count": null,
      "outputs": [
        {
          "output_type": "stream",
          "name": "stdout",
          "text": [
            "Mon Aug 11 04:53:57 2025       \n",
            "+-----------------------------------------------------------------------------------------+\n",
            "| NVIDIA-SMI 550.54.15              Driver Version: 550.54.15      CUDA Version: 12.4     |\n",
            "|-----------------------------------------+------------------------+----------------------+\n",
            "| GPU  Name                 Persistence-M | Bus-Id          Disp.A | Volatile Uncorr. ECC |\n",
            "| Fan  Temp   Perf          Pwr:Usage/Cap |           Memory-Usage | GPU-Util  Compute M. |\n",
            "|                                         |                        |               MIG M. |\n",
            "|=========================================+========================+======================|\n",
            "|   0  Tesla T4                       Off |   00000000:00:04.0 Off |                    0 |\n",
            "| N/A   41C    P8             10W /   70W |       0MiB /  15360MiB |      0%      Default |\n",
            "|                                         |                        |                  N/A |\n",
            "+-----------------------------------------+------------------------+----------------------+\n",
            "                                                                                         \n",
            "+-----------------------------------------------------------------------------------------+\n",
            "| Processes:                                                                              |\n",
            "|  GPU   GI   CI        PID   Type   Process name                              GPU Memory |\n",
            "|        ID   ID                                                               Usage      |\n",
            "|=========================================================================================|\n",
            "|  No running processes found                                                             |\n",
            "+-----------------------------------------------------------------------------------------+\n",
            "PyTorch version: 2.6.0+cu124\n",
            "CUDA available: True\n",
            "GPU: Tesla T4\n"
          ]
        }
      ]
    },
    {
      "cell_type": "markdown",
      "metadata": {
        "id": "setup_header"
      },
      "source": [
        "## 1. Setup Environment"
      ]
    },
    {
      "cell_type": "markdown",
      "metadata": {
        "id": "mount_header"
      },
      "source": [
        "## 2. Mount Google Drive (Optional)"
      ]
    },
    {
      "cell_type": "code",
      "source": [
        "# Mount Google Drive to save/load files\n",
        "from google.colab import drive\n",
        "drive.mount('/content/drive')"
      ],
      "metadata": {
        "colab": {
          "base_uri": "https://localhost:8080/"
        },
        "id": "X6MRu6Zga_FZ",
        "outputId": "9790976d-2494-4f7e-b997-a7e7e525a5b1"
      },
      "execution_count": null,
      "outputs": [
        {
          "output_type": "stream",
          "name": "stdout",
          "text": [
            "Drive already mounted at /content/drive; to attempt to forcibly remount, call drive.mount(\"/content/drive\", force_remount=True).\n"
          ]
        }
      ]
    },
    {
      "cell_type": "markdown",
      "metadata": {
        "id": "upload_header"
      },
      "source": [
        "## 3. Upload and Extract Project Files"
      ]
    },
    {
      "cell_type": "code",
      "source": [
        "# Option 1: Upload from local computer\n",
        "from google.colab import files\n",
        "uploaded = files.upload()  # Select llm_testbench_colab.zip\n",
        "\n",
        "# Extract\n",
        "!unzip -q llm_testbench_colab.zip\n",
        "!ls -la"
      ],
      "metadata": {
        "colab": {
          "base_uri": "https://localhost:8080/",
          "height": 755
        },
        "id": "87JYqbv5bLCm",
        "outputId": "9d947963-2586-4633-a03c-9839216c96a0"
      },
      "execution_count": null,
      "outputs": [
        {
          "output_type": "display_data",
          "data": {
            "text/plain": [
              "<IPython.core.display.HTML object>"
            ],
            "text/html": [
              "\n",
              "     <input type=\"file\" id=\"files-08a5fa5e-4aa0-404a-bfb6-d3427fe6a618\" name=\"files[]\" multiple disabled\n",
              "        style=\"border:none\" />\n",
              "     <output id=\"result-08a5fa5e-4aa0-404a-bfb6-d3427fe6a618\">\n",
              "      Upload widget is only available when the cell has been executed in the\n",
              "      current browser session. Please rerun this cell to enable.\n",
              "      </output>\n",
              "      <script>// Copyright 2017 Google LLC\n",
              "//\n",
              "// Licensed under the Apache License, Version 2.0 (the \"License\");\n",
              "// you may not use this file except in compliance with the License.\n",
              "// You may obtain a copy of the License at\n",
              "//\n",
              "//      http://www.apache.org/licenses/LICENSE-2.0\n",
              "//\n",
              "// Unless required by applicable law or agreed to in writing, software\n",
              "// distributed under the License is distributed on an \"AS IS\" BASIS,\n",
              "// WITHOUT WARRANTIES OR CONDITIONS OF ANY KIND, either express or implied.\n",
              "// See the License for the specific language governing permissions and\n",
              "// limitations under the License.\n",
              "\n",
              "/**\n",
              " * @fileoverview Helpers for google.colab Python module.\n",
              " */\n",
              "(function(scope) {\n",
              "function span(text, styleAttributes = {}) {\n",
              "  const element = document.createElement('span');\n",
              "  element.textContent = text;\n",
              "  for (const key of Object.keys(styleAttributes)) {\n",
              "    element.style[key] = styleAttributes[key];\n",
              "  }\n",
              "  return element;\n",
              "}\n",
              "\n",
              "// Max number of bytes which will be uploaded at a time.\n",
              "const MAX_PAYLOAD_SIZE = 100 * 1024;\n",
              "\n",
              "function _uploadFiles(inputId, outputId) {\n",
              "  const steps = uploadFilesStep(inputId, outputId);\n",
              "  const outputElement = document.getElementById(outputId);\n",
              "  // Cache steps on the outputElement to make it available for the next call\n",
              "  // to uploadFilesContinue from Python.\n",
              "  outputElement.steps = steps;\n",
              "\n",
              "  return _uploadFilesContinue(outputId);\n",
              "}\n",
              "\n",
              "// This is roughly an async generator (not supported in the browser yet),\n",
              "// where there are multiple asynchronous steps and the Python side is going\n",
              "// to poll for completion of each step.\n",
              "// This uses a Promise to block the python side on completion of each step,\n",
              "// then passes the result of the previous step as the input to the next step.\n",
              "function _uploadFilesContinue(outputId) {\n",
              "  const outputElement = document.getElementById(outputId);\n",
              "  const steps = outputElement.steps;\n",
              "\n",
              "  const next = steps.next(outputElement.lastPromiseValue);\n",
              "  return Promise.resolve(next.value.promise).then((value) => {\n",
              "    // Cache the last promise value to make it available to the next\n",
              "    // step of the generator.\n",
              "    outputElement.lastPromiseValue = value;\n",
              "    return next.value.response;\n",
              "  });\n",
              "}\n",
              "\n",
              "/**\n",
              " * Generator function which is called between each async step of the upload\n",
              " * process.\n",
              " * @param {string} inputId Element ID of the input file picker element.\n",
              " * @param {string} outputId Element ID of the output display.\n",
              " * @return {!Iterable<!Object>} Iterable of next steps.\n",
              " */\n",
              "function* uploadFilesStep(inputId, outputId) {\n",
              "  const inputElement = document.getElementById(inputId);\n",
              "  inputElement.disabled = false;\n",
              "\n",
              "  const outputElement = document.getElementById(outputId);\n",
              "  outputElement.innerHTML = '';\n",
              "\n",
              "  const pickedPromise = new Promise((resolve) => {\n",
              "    inputElement.addEventListener('change', (e) => {\n",
              "      resolve(e.target.files);\n",
              "    });\n",
              "  });\n",
              "\n",
              "  const cancel = document.createElement('button');\n",
              "  inputElement.parentElement.appendChild(cancel);\n",
              "  cancel.textContent = 'Cancel upload';\n",
              "  const cancelPromise = new Promise((resolve) => {\n",
              "    cancel.onclick = () => {\n",
              "      resolve(null);\n",
              "    };\n",
              "  });\n",
              "\n",
              "  // Wait for the user to pick the files.\n",
              "  const files = yield {\n",
              "    promise: Promise.race([pickedPromise, cancelPromise]),\n",
              "    response: {\n",
              "      action: 'starting',\n",
              "    }\n",
              "  };\n",
              "\n",
              "  cancel.remove();\n",
              "\n",
              "  // Disable the input element since further picks are not allowed.\n",
              "  inputElement.disabled = true;\n",
              "\n",
              "  if (!files) {\n",
              "    return {\n",
              "      response: {\n",
              "        action: 'complete',\n",
              "      }\n",
              "    };\n",
              "  }\n",
              "\n",
              "  for (const file of files) {\n",
              "    const li = document.createElement('li');\n",
              "    li.append(span(file.name, {fontWeight: 'bold'}));\n",
              "    li.append(span(\n",
              "        `(${file.type || 'n/a'}) - ${file.size} bytes, ` +\n",
              "        `last modified: ${\n",
              "            file.lastModifiedDate ? file.lastModifiedDate.toLocaleDateString() :\n",
              "                                    'n/a'} - `));\n",
              "    const percent = span('0% done');\n",
              "    li.appendChild(percent);\n",
              "\n",
              "    outputElement.appendChild(li);\n",
              "\n",
              "    const fileDataPromise = new Promise((resolve) => {\n",
              "      const reader = new FileReader();\n",
              "      reader.onload = (e) => {\n",
              "        resolve(e.target.result);\n",
              "      };\n",
              "      reader.readAsArrayBuffer(file);\n",
              "    });\n",
              "    // Wait for the data to be ready.\n",
              "    let fileData = yield {\n",
              "      promise: fileDataPromise,\n",
              "      response: {\n",
              "        action: 'continue',\n",
              "      }\n",
              "    };\n",
              "\n",
              "    // Use a chunked sending to avoid message size limits. See b/62115660.\n",
              "    let position = 0;\n",
              "    do {\n",
              "      const length = Math.min(fileData.byteLength - position, MAX_PAYLOAD_SIZE);\n",
              "      const chunk = new Uint8Array(fileData, position, length);\n",
              "      position += length;\n",
              "\n",
              "      const base64 = btoa(String.fromCharCode.apply(null, chunk));\n",
              "      yield {\n",
              "        response: {\n",
              "          action: 'append',\n",
              "          file: file.name,\n",
              "          data: base64,\n",
              "        },\n",
              "      };\n",
              "\n",
              "      let percentDone = fileData.byteLength === 0 ?\n",
              "          100 :\n",
              "          Math.round((position / fileData.byteLength) * 100);\n",
              "      percent.textContent = `${percentDone}% done`;\n",
              "\n",
              "    } while (position < fileData.byteLength);\n",
              "  }\n",
              "\n",
              "  // All done.\n",
              "  yield {\n",
              "    response: {\n",
              "      action: 'complete',\n",
              "    }\n",
              "  };\n",
              "}\n",
              "\n",
              "scope.google = scope.google || {};\n",
              "scope.google.colab = scope.google.colab || {};\n",
              "scope.google.colab._files = {\n",
              "  _uploadFiles,\n",
              "  _uploadFilesContinue,\n",
              "};\n",
              "})(self);\n",
              "</script> "
            ]
          },
          "metadata": {}
        },
        {
          "output_type": "stream",
          "name": "stdout",
          "text": [
            "Saving llm_testbench_colab.zip to llm_testbench_colab (2).zip\n",
            "replace requirements.txt? [y]es, [n]o, [A]ll, [N]one, [r]ename: y\n",
            "replace .env? [y]es, [n]o, [A]ll, [N]one, [r]ename: y\n",
            "replace requirements_colab.txt? [y]es, [n]o, [A]ll, [N]one, [r]ename: y\n",
            "replace utils/data_utils.py? [y]es, [n]o, [A]ll, [N]one, [r]ename: y\n",
            "replace utils/verilog_utils.py? [y]es, [n]o, [A]ll, [N]one, [r]ename: y\n",
            "replace utils/__pycache__/verilog_utils.cpython-311.pyc? [y]es, [n]o, [A]ll, [N]one, [r]ename: y\n",
            "replace utils/__pycache__/data_utils.cpython-311.pyc? [y]es, [n]o, [A]ll, [N]one, [r]ename: y\n",
            "replace configs/config.yaml? [y]es, [n]o, [A]ll, [N]one, [r]ename: y\n",
            "replace scripts/prepare_for_colab.py? [y]es, [n]o, [A]ll, [N]one, [r]ename: y\n",
            "replace scripts/download_data.py? [y]es, [n]o, [A]ll, [N]one, [r]ename: y\n",
            "replace scripts/train.py? [y]es, [n]o, [A]ll, [N]one, [r]ename: y\n",
            "replace scripts/analyze_dataset.py? [y]es, [n]o, [A]ll, [N]one, [r]ename: y\n",
            "replace scripts/process_data.py? [y]es, [n]o, [A]ll, [N]one, [r]ename: y\n",
            "replace scripts/check_imports.py? [y]es, [n]o, [A]ll, [N]one, [r]ename: y\n",
            "replace data/processed/.gitkeep? [y]es, [n]o, [A]ll, [N]one, [r]ename: y\n",
            "replace data/processed/test/test.jsonl? [y]es, [n]o, [A]ll, [N]one, [r]ename: y\n",
            "replace data/processed/train/train.jsonl? [y]es, [n]o, [A]ll, [N]one, [r]ename: y\n",
            "replace data/processed/val/val.jsonl? [y]es, [n]o, [A]ll, [N]one, [r]ename: y\n",
            "replace notebooks/train_on_colab.ipynb? [y]es, [n]o, [A]ll, [N]one, [r]ename: y\n",
            "total 212\n",
            "drwxr-xr-x 1 root root  4096 Aug 11 04:54  .\n",
            "drwxr-xr-x 1 root root  4096 Aug 11 04:08  ..\n",
            "drwxr-xr-x 4 root root  4096 Aug  7 13:42  .config\n",
            "drwxr-xr-x 2 root root  4096 Aug 11 04:54  configs\n",
            "drwxr-xr-x 3 root root  4096 Aug 11 04:39  data\n",
            "drwx------ 5 root root  4096 Aug 11 04:38  drive\n",
            "-rw-r--r-- 1 root root   177 Aug 10 23:07  .env\n",
            "-rw-r--r-- 1 root root 51639 Aug 11 04:53 'llm_testbench_colab (1).zip'\n",
            "-rw-r--r-- 1 root root 51639 Aug 11 04:54 'llm_testbench_colab (2).zip'\n",
            "-rw-r--r-- 1 root root 49242 Aug 11 04:39  llm_testbench_colab.zip\n",
            "drwxr-xr-x 2 root root  4096 Aug 11 04:54  notebooks\n",
            "-rw-r--r-- 1 root root   159 Aug 11 00:12  requirements_colab.txt\n",
            "-rw-r--r-- 1 root root   736 Aug 10 23:33  requirements.txt\n",
            "drwxr-xr-x 1 root root  4096 Aug  7 13:42  sample_data\n",
            "drwxr-xr-x 2 root root  4096 Aug 11 04:54  scripts\n",
            "drwxr-xr-x 3 root root  4096 Aug 11 04:54  utils\n",
            "drwxr-xr-x 4 root root  4096 Aug 11 04:45  wandb\n"
          ]
        }
      ]
    },
    {
      "cell_type": "markdown",
      "metadata": {
        "id": "install_header"
      },
      "source": [
        "## 4. Install Dependencies"
      ]
    },
    {
      "cell_type": "code",
      "source": [
        "# Install requirements\n",
        "!pip install -q -r requirements_colab.txt\n",
        "\n",
        "# Verify installations\n",
        "!pip list | grep -E \"torch|transformers|peft|bitsandbytes\""
      ],
      "metadata": {
        "colab": {
          "base_uri": "https://localhost:8080/"
        },
        "id": "GsBAILCsbSE0",
        "outputId": "6de8b40b-667e-4407-9b03-f3e13afd0aa4"
      },
      "execution_count": null,
      "outputs": [
        {
          "output_type": "stream",
          "name": "stdout",
          "text": [
            "bitsandbytes                          0.46.1\n",
            "peft                                  0.17.0\n",
            "sentence-transformers                 5.0.0\n",
            "torch                                 2.6.0+cu124\n",
            "torchao                               0.10.0\n",
            "torchaudio                            2.6.0+cu124\n",
            "torchdata                             0.11.0\n",
            "torchsummary                          1.5.1\n",
            "torchtune                             0.6.1\n",
            "torchvision                           0.21.0+cu124\n",
            "transformers                          4.55.0\n"
          ]
        }
      ]
    },
    {
      "cell_type": "markdown",
      "metadata": {
        "id": "wandb_header"
      },
      "source": [
        "## 5. Configure Weights & Biases (Optional)"
      ]
    },
    {
      "cell_type": "code",
      "metadata": {
        "id": "setup_wandb",
        "colab": {
          "base_uri": "https://localhost:8080/",
          "height": 562
        },
        "outputId": "e96a36cc-001c-4b6c-880f-54e860e00dd0"
      },
      "execution_count": null,
      "outputs": [
        {
          "output_type": "stream",
          "name": "stderr",
          "text": [
            "\u001b[34m\u001b[1mwandb\u001b[0m: Currently logged in as: \u001b[33mhalgas-a\u001b[0m (\u001b[33mhalgas-a-northeastern-university\u001b[0m) to \u001b[32mhttps://api.wandb.ai\u001b[0m. Use \u001b[1m`wandb login --relogin`\u001b[0m to force relogin\n"
          ]
        },
        {
          "output_type": "display_data",
          "data": {
            "text/plain": [
              "<IPython.core.display.HTML object>"
            ],
            "text/html": [
              "Tracking run with wandb version 0.21.0"
            ]
          },
          "metadata": {}
        },
        {
          "output_type": "display_data",
          "data": {
            "text/plain": [
              "<IPython.core.display.HTML object>"
            ],
            "text/html": [
              "Run data is saved locally in <code>/content/wandb/run-20250811_044521-6p1z0xq0</code>"
            ]
          },
          "metadata": {}
        },
        {
          "output_type": "display_data",
          "data": {
            "text/plain": [
              "<IPython.core.display.HTML object>"
            ],
            "text/html": [
              "Syncing run <strong><a href='https://wandb.ai/halgas-a-northeastern-university/llm-testbench-gen/runs/6p1z0xq0' target=\"_blank\">colab-training-run</a></strong> to <a href='https://wandb.ai/halgas-a-northeastern-university/llm-testbench-gen' target=\"_blank\">Weights & Biases</a> (<a href='https://wandb.me/developer-guide' target=\"_blank\">docs</a>)<br>"
            ]
          },
          "metadata": {}
        },
        {
          "output_type": "display_data",
          "data": {
            "text/plain": [
              "<IPython.core.display.HTML object>"
            ],
            "text/html": [
              " View project at <a href='https://wandb.ai/halgas-a-northeastern-university/llm-testbench-gen' target=\"_blank\">https://wandb.ai/halgas-a-northeastern-university/llm-testbench-gen</a>"
            ]
          },
          "metadata": {}
        },
        {
          "output_type": "display_data",
          "data": {
            "text/plain": [
              "<IPython.core.display.HTML object>"
            ],
            "text/html": [
              " View run at <a href='https://wandb.ai/halgas-a-northeastern-university/llm-testbench-gen/runs/6p1z0xq0' target=\"_blank\">https://wandb.ai/halgas-a-northeastern-university/llm-testbench-gen/runs/6p1z0xq0</a>"
            ]
          },
          "metadata": {}
        },
        {
          "output_type": "execute_result",
          "data": {
            "text/html": [
              "<button onClick=\"this.nextSibling.style.display='block';this.style.display='none';\">Display W&B run</button><iframe src='https://wandb.ai/halgas-a-northeastern-university/llm-testbench-gen/runs/6p1z0xq0?jupyter=true' style='border:none;width:100%;height:420px;display:none;'></iframe>"
            ],
            "text/plain": [
              "<wandb.sdk.wandb_run.Run at 0x7fdf08180f10>"
            ]
          },
          "metadata": {},
          "execution_count": 6
        }
      ],
      "source": [
        "# Set up wandb for experiment tracking\n",
        "import os\n",
        "import wandb\n",
        "\n",
        "# Set API key directly\n",
        "os.environ['WANDB_API_KEY'] = 'b29c0d2102aa226ead1fded36b786769f969d4f7'\n",
        "\n",
        "# Initialize wandb\n",
        "wandb.init(\n",
        "    project=\"llm-testbench-gen\",\n",
        "    name=\"colab-training-run\",\n",
        "    config={\n",
        "        \"model\": \"TinyLlama-1.1B\",\n",
        "        \"dataset\": \"AutoBench\",\n",
        "        \"epochs\": 10\n",
        "    }\n",
        ")"
      ]
    },
    {
      "cell_type": "markdown",
      "metadata": {
        "id": "config_header"
      },
      "source": [
        "## 6. Update Config for Colab GPU"
      ]
    },
    {
      "cell_type": "code",
      "metadata": {
        "id": "update_config",
        "colab": {
          "base_uri": "https://localhost:8080/"
        },
        "outputId": "b4fe654b-6866-453b-9310-c5daa1f5ba60"
      },
      "execution_count": null,
      "outputs": [
        {
          "output_type": "stream",
          "name": "stdout",
          "text": [
            "Config updated for Colab GPU training\n",
            "Learning rate: 0.0002 (type: <class 'float'>)\n",
            "Optimizer: adamw_torch\n"
          ]
        }
      ],
      "source": [
        "# Create optimized config for Colab\n",
        "import yaml\n",
        "\n",
        "# Load existing config\n",
        "with open('configs/config.yaml', 'r') as f:\n",
        "    config = yaml.safe_load(f)\n",
        "\n",
        "# Update for GPU training with IMPROVED settings\n",
        "config['model']['quantization']['load_in_4bit'] = True  # Enable 4-bit quantization\n",
        "config['training']['per_device_train_batch_size'] = 2   # Smaller batch for better learning\n",
        "config['training']['per_device_eval_batch_size'] = 2    # Match train batch size\n",
        "config['training']['gradient_accumulation_steps'] = 8   # Increased for effective batch of 16\n",
        "config['training']['fp16'] = True  # Enable mixed precision\n",
        "config['training']['num_train_epochs'] = 10  # Increased from 5\n",
        "\n",
        "# Adjusted learning parameters\n",
        "config['training']['learning_rate'] = 1e-4   # Lowered from 2e-4 for more stable learning\n",
        "config['training']['warmup_steps'] = 50      # Increased from 10 for gradual warmup\n",
        "config['training']['warmup_ratio'] = 0.03    # Keep this\n",
        "config['training']['max_grad_norm'] = 0.3    # Keep this for gradient clipping\n",
        "\n",
        "# Improved LoRA configuration\n",
        "config['model']['lora']['r'] = 32                          # Increased from 16\n",
        "config['model']['lora']['lora_alpha'] = 64                 # Scaled with r (2x)\n",
        "config['model']['lora']['target_modules'] = [\"q_proj\", \"v_proj\", \"k_proj\", \"o_proj\"]  # Target all attention\n",
        "\n",
        "# Training schedule improvements\n",
        "config['training']['logging_steps'] = 2      # More frequent logging\n",
        "config['training']['save_steps'] = 20        # Save more frequently\n",
        "config['training']['eval_steps'] = 10        # Evaluate more often\n",
        "\n",
        "# Keep optimizer\n",
        "config['training']['optim'] = 'adamw_torch'\n",
        "\n",
        "# Save updated config\n",
        "with open('configs/config_colab.yaml', 'w') as f:\n",
        "    yaml.dump(config, f)\n",
        "\n",
        "print(\"Config updated for Colab GPU training with improvements\")\n",
        "print(f\"Learning rate: {config['training']['learning_rate']} (type: {type(config['training']['learning_rate'])})\")\n",
        "print(f\"Optimizer: {config['training']['optim']}\")\n",
        "print(f\"Epochs: {config['training']['num_train_epochs']}\")\n",
        "print(f\"LoRA rank: {config['model']['lora']['r']}\")\n",
        "print(f\"Effective batch size: {config['training']['per_device_train_batch_size'] * config['training']['gradient_accumulation_steps']}\")\n",
        "print(f\"Total training examples: Check your augmented dataset size\")"
      ]
    },
    {
      "cell_type": "markdown",
      "metadata": {
        "id": "train_header"
      },
      "source": [
        "## 7. Run Training"
      ]
    },
    {
      "cell_type": "code",
      "source": [
        "# Fix the train.py file directly in Colab\n",
        "!sed -i 's/evaluation_strategy=/eval_strategy=/g' /content/scripts/train.py\n",
        "\n",
        "# Verify the change was made\n",
        "!grep -n \"eval_strategy\" /content/scripts/train.py"
      ],
      "metadata": {
        "colab": {
          "base_uri": "https://localhost:8080/"
        },
        "id": "EewVbGdvfBD1",
        "outputId": "609867df-c991-4e33-b402-5ff740e4b3ce"
      },
      "execution_count": null,
      "outputs": [
        {
          "output_type": "stream",
          "name": "stdout",
          "text": [
            "159:        eval_strategy=\"steps\",\n"
          ]
        }
      ]
    },
    {
      "cell_type": "code",
      "metadata": {
        "id": "run_training",
        "colab": {
          "base_uri": "https://localhost:8080/"
        },
        "outputId": "0deca9b5-2999-4106-c2d0-beecba2add56"
      },
      "execution_count": null,
      "outputs": [
        {
          "output_type": "stream",
          "name": "stdout",
          "text": [
            "2025-08-11 04:58:46.590895: E external/local_xla/xla/stream_executor/cuda/cuda_fft.cc:467] Unable to register cuFFT factory: Attempting to register factory for plugin cuFFT when one has already been registered\n",
            "WARNING: All log messages before absl::InitializeLog() is called are written to STDERR\n",
            "E0000 00:00:1754888326.612670   13107 cuda_dnn.cc:8579] Unable to register cuDNN factory: Attempting to register factory for plugin cuDNN when one has already been registered\n",
            "E0000 00:00:1754888326.618993   13107 cuda_blas.cc:1407] Unable to register cuBLAS factory: Attempting to register factory for plugin cuBLAS when one has already been registered\n",
            "W0000 00:00:1754888326.636022   13107 computation_placer.cc:177] computation placer already registered. Please check linkage and avoid linking the same target more than once.\n",
            "W0000 00:00:1754888326.636054   13107 computation_placer.cc:177] computation placer already registered. Please check linkage and avoid linking the same target more than once.\n",
            "W0000 00:00:1754888326.636057   13107 computation_placer.cc:177] computation placer already registered. Please check linkage and avoid linking the same target more than once.\n",
            "W0000 00:00:1754888326.636059   13107 computation_placer.cc:177] computation placer already registered. Please check linkage and avoid linking the same target more than once.\n",
            "2025-08-11 04:58:46.640992: I tensorflow/core/platform/cpu_feature_guard.cc:210] This TensorFlow binary is optimized to use available CPU instructions in performance-critical operations.\n",
            "To enable the following instructions: AVX2 FMA, in other operations, rebuild TensorFlow with the appropriate compiler flags.\n",
            "trainable params: 4,505,600 || all params: 1,104,553,984 || trainable%: 0.4079\n",
            "/content/scripts/train.py:217: FutureWarning: `tokenizer` is deprecated and will be removed in version 5.0.0 for `Trainer.__init__`. Use `processing_class` instead.\n",
            "  trainer = Trainer(\n",
            "  0% 0/10 [00:00<?, ?it/s]`use_cache=True` is incompatible with gradient checkpointing. Setting `use_cache=False`.\n",
            "{'loss': 0.6603, 'grad_norm': 0.31635862588882446, 'learning_rate': 0.0002, 'epoch': 5.0}\n",
            "{'train_runtime': 599.9429, 'train_samples_per_second': 0.25, 'train_steps_per_second': 0.017, 'train_loss': 0.6602851390838623, 'epoch': 5.0}\n",
            "100% 10/10 [09:59<00:00, 59.99s/it]\n",
            "\n",
            "==================================================\n",
            "Training Complete!\n",
            "==================================================\n",
            "Final loss: 0.6602851390838623\n",
            "Total training time: 599.9429 seconds\n",
            "\n",
            "Next step: Run 'python scripts/evaluate.py' to evaluate the model\n"
          ]
        }
      ],
      "source": [
        "# Set config file\n",
        "!cp configs/config_colab.yaml configs/config.yaml\n",
        "\n",
        "# Run training\n",
        "!python scripts/train.py"
      ]
    },
    {
      "cell_type": "markdown",
      "metadata": {
        "id": "save_header"
      },
      "source": [
        "## 8. Save Trained Model"
      ]
    },
    {
      "cell_type": "code",
      "metadata": {
        "id": "compress_model",
        "colab": {
          "base_uri": "https://localhost:8080/"
        },
        "outputId": "cff4671e-1b31-4c67-afcd-43681cd1aae0"
      },
      "execution_count": null,
      "outputs": [
        {
          "output_type": "stream",
          "name": "stdout",
          "text": [
            "  adding: adapter_config.json (deflated 57%)\n",
            "  adding: adapter_model.safetensors (deflated 8%)\n",
            "  adding: chat_template.jinja (deflated 60%)\n",
            "  adding: checkpoint-10/ (stored 0%)\n",
            "  adding: checkpoint-10/trainer_state.json (deflated 56%)\n",
            "  adding: checkpoint-10/adapter_config.json (deflated 57%)\n",
            "  adding: checkpoint-10/tokenizer.json (deflated 85%)\n",
            "  adding: checkpoint-10/README.md (deflated 66%)\n",
            "  adding: checkpoint-10/training_args.bin (deflated 51%)\n",
            "  adding: checkpoint-10/chat_template.jinja (deflated 60%)\n",
            "  adding: checkpoint-10/tokenizer_config.json (deflated 69%)\n",
            "  adding: checkpoint-10/optimizer.pt (deflated 7%)\n",
            "  adding: checkpoint-10/adapter_model.safetensors (deflated 8%)\n",
            "  adding: checkpoint-10/special_tokens_map.json (deflated 73%)\n",
            "  adding: checkpoint-10/scaler.pt (deflated 60%)\n",
            "  adding: checkpoint-10/scheduler.pt (deflated 58%)\n",
            "  adding: checkpoint-10/rng_state.pth (deflated 25%)\n",
            "  adding: checkpoint-10/tokenizer.model (deflated 55%)\n",
            "  adding: README.md (deflated 66%)\n",
            "  adding: special_tokens_map.json (deflated 73%)\n",
            "  adding: tokenizer_config.json (deflated 69%)\n",
            "  adding: tokenizer.json (deflated 85%)\n",
            "  adding: tokenizer.model (deflated 55%)\n",
            "  adding: training_args.bin (deflated 51%)\n",
            "  adding: training_results.json (deflated 33%)\n",
            "-rw-r--r-- 1 root root 65M Aug 11 05:09 trained_model.zip\n"
          ]
        }
      ],
      "source": [
        "# Compress the trained model\n",
        "!cd models/checkpoints && zip -r /content/trained_model.zip * && cd /content\n",
        "!ls -lh trained_model.zip"
      ]
    },
    {
      "cell_type": "code",
      "metadata": {
        "id": "download_model",
        "colab": {
          "base_uri": "https://localhost:8080/",
          "height": 17
        },
        "outputId": "e7adc687-e18a-42a4-e655-0406e21cc4c4"
      },
      "execution_count": null,
      "outputs": [
        {
          "output_type": "display_data",
          "data": {
            "text/plain": [
              "<IPython.core.display.Javascript object>"
            ],
            "application/javascript": [
              "\n",
              "    async function download(id, filename, size) {\n",
              "      if (!google.colab.kernel.accessAllowed) {\n",
              "        return;\n",
              "      }\n",
              "      const div = document.createElement('div');\n",
              "      const label = document.createElement('label');\n",
              "      label.textContent = `Downloading \"${filename}\": `;\n",
              "      div.appendChild(label);\n",
              "      const progress = document.createElement('progress');\n",
              "      progress.max = size;\n",
              "      div.appendChild(progress);\n",
              "      document.body.appendChild(div);\n",
              "\n",
              "      const buffers = [];\n",
              "      let downloaded = 0;\n",
              "\n",
              "      const channel = await google.colab.kernel.comms.open(id);\n",
              "      // Send a message to notify the kernel that we're ready.\n",
              "      channel.send({})\n",
              "\n",
              "      for await (const message of channel.messages) {\n",
              "        // Send a message to notify the kernel that we're ready.\n",
              "        channel.send({})\n",
              "        if (message.buffers) {\n",
              "          for (const buffer of message.buffers) {\n",
              "            buffers.push(buffer);\n",
              "            downloaded += buffer.byteLength;\n",
              "            progress.value = downloaded;\n",
              "          }\n",
              "        }\n",
              "      }\n",
              "      const blob = new Blob(buffers, {type: 'application/binary'});\n",
              "      const a = document.createElement('a');\n",
              "      a.href = window.URL.createObjectURL(blob);\n",
              "      a.download = filename;\n",
              "      div.appendChild(a);\n",
              "      a.click();\n",
              "      div.remove();\n",
              "    }\n",
              "  "
            ]
          },
          "metadata": {}
        },
        {
          "output_type": "display_data",
          "data": {
            "text/plain": [
              "<IPython.core.display.Javascript object>"
            ],
            "application/javascript": [
              "download(\"download_c5257eb8-0eda-42ba-b860-448ddb392c90\", \"trained_model.zip\", 68108971)"
            ]
          },
          "metadata": {}
        }
      ],
      "source": [
        "# Option 1: Download to local computer\n",
        "from google.colab import files\n",
        "files.download('trained_model.zip')"
      ]
    },
    {
      "cell_type": "code",
      "metadata": {
        "id": "save_drive"
      },
      "execution_count": null,
      "outputs": [],
      "source": [
        "# Option 2: Save to Google Drive\n",
        "!cp trained_model.zip /content/drive/MyDrive/\n",
        "print(\"Model saved to Google Drive\")"
      ]
    },
    {
      "cell_type": "markdown",
      "source": [
        "## 9. Install Icarus Verilog for Testing\n"
      ],
      "metadata": {
        "id": "ZqeA-KLIqClN"
      }
    },
    {
      "cell_type": "code",
      "source": [
        "# Install Icarus Verilog for compilation tests\n",
        "!apt-get update\n",
        "!apt-get install -y iverilog\n",
        "!iverilog -version"
      ],
      "metadata": {
        "colab": {
          "base_uri": "https://localhost:8080/"
        },
        "id": "V_jBGOAFqCCC",
        "outputId": "76aa2111-4ce9-48e8-a328-d2c1bb39d1e6"
      },
      "execution_count": null,
      "outputs": [
        {
          "output_type": "stream",
          "name": "stdout",
          "text": [
            "\r0% [Working]\r            \rGet:1 https://cloud.r-project.org/bin/linux/ubuntu jammy-cran40/ InRelease [3,632 B]\n",
            "\r0% [Connecting to archive.ubuntu.com] [Connecting to security.ubuntu.com (185.1\r0% [Connecting to archive.ubuntu.com] [Connecting to security.ubuntu.com (185.1\r                                                                               \rGet:2 https://developer.download.nvidia.com/compute/cuda/repos/ubuntu2204/x86_64  InRelease [1,581 B]\n",
            "Get:3 http://security.ubuntu.com/ubuntu jammy-security InRelease [129 kB]\n",
            "Hit:4 https://r2u.stat.illinois.edu/ubuntu jammy InRelease\n",
            "Hit:5 http://archive.ubuntu.com/ubuntu jammy InRelease\n",
            "Get:6 https://developer.download.nvidia.com/compute/cuda/repos/ubuntu2204/x86_64  Packages [1,923 kB]\n",
            "Get:7 http://archive.ubuntu.com/ubuntu jammy-updates InRelease [128 kB]\n",
            "Get:8 https://ppa.launchpadcontent.net/deadsnakes/ppa/ubuntu jammy InRelease [18.1 kB]\n",
            "Get:9 https://ppa.launchpadcontent.net/graphics-drivers/ppa/ubuntu jammy InRelease [24.3 kB]\n",
            "Get:10 http://archive.ubuntu.com/ubuntu jammy-backports InRelease [127 kB]\n",
            "Hit:11 https://ppa.launchpadcontent.net/ubuntugis/ppa/ubuntu jammy InRelease\n",
            "Get:12 https://ppa.launchpadcontent.net/deadsnakes/ppa/ubuntu jammy/main amd64 Packages [32.9 kB]\n",
            "Get:13 http://archive.ubuntu.com/ubuntu jammy-updates/main amd64 Packages [3,518 kB]\n",
            "Get:14 https://ppa.launchpadcontent.net/graphics-drivers/ppa/ubuntu jammy/main amd64 Packages [36.0 kB]\n",
            "Fetched 5,942 kB in 2s (3,736 kB/s)\n",
            "Reading package lists... Done\n",
            "W: Skipping acquire of configured file 'main/source/Sources' as repository 'https://r2u.stat.illinois.edu/ubuntu jammy InRelease' does not seem to provide it (sources.list entry misspelt?)\n",
            "Reading package lists... Done\n",
            "Building dependency tree... Done\n",
            "Reading state information... Done\n",
            "Suggested packages:\n",
            "  gtkwave\n",
            "The following NEW packages will be installed:\n",
            "  iverilog\n",
            "0 upgraded, 1 newly installed, 0 to remove and 35 not upgraded.\n",
            "Need to get 2,130 kB of archives.\n",
            "After this operation, 6,749 kB of additional disk space will be used.\n",
            "Get:1 http://archive.ubuntu.com/ubuntu jammy/universe amd64 iverilog amd64 11.0-1.1 [2,130 kB]\n",
            "Fetched 2,130 kB in 1s (2,357 kB/s)\n",
            "Selecting previously unselected package iverilog.\n",
            "(Reading database ... 126284 files and directories currently installed.)\n",
            "Preparing to unpack .../iverilog_11.0-1.1_amd64.deb ...\n",
            "Unpacking iverilog (11.0-1.1) ...\n",
            "Setting up iverilog (11.0-1.1) ...\n",
            "Processing triggers for man-db (2.10.2-1) ...\n",
            "iverilog: invalid option -- 'e'\n"
          ]
        }
      ]
    },
    {
      "cell_type": "markdown",
      "source": [
        "## 10. Run Evaluation"
      ],
      "metadata": {
        "id": "UU_7U4WnqJg2"
      }
    },
    {
      "cell_type": "code",
      "source": [
        "# Create the evaluation script if it doesn't exist\n",
        "!cp /content/scripts/evaluate.py /content/scripts/evaluate_colab.py || echo \"Creating new evaluation script\"\n",
        "\n",
        "# If evaluate.py doesn't exist, download it\n",
        "if not os.path.exists('/content/scripts/evaluate.py'):\n",
        "    print(\"Downloading evaluation script...\")\n",
        "    # You can paste the evaluate.py content here or upload it"
      ],
      "metadata": {
        "id": "RVyPhTRVqKat"
      },
      "execution_count": null,
      "outputs": []
    },
    {
      "cell_type": "code",
      "source": [
        "# Run evaluation on the trained model\n",
        "!python scripts/evaluate.py\n",
        "\n",
        "# Check results\n",
        "!ls -la data/test_results/"
      ],
      "metadata": {
        "colab": {
          "base_uri": "https://localhost:8080/"
        },
        "id": "z_K1LfaIrHF-",
        "outputId": "4649d4d4-ff9b-4a0f-8acb-f39e297cc448"
      },
      "execution_count": null,
      "outputs": [
        {
          "output_type": "stream",
          "name": "stdout",
          "text": [
            "2025-08-11 05:48:45.937745: E external/local_xla/xla/stream_executor/cuda/cuda_fft.cc:467] Unable to register cuFFT factory: Attempting to register factory for plugin cuFFT when one has already been registered\n",
            "WARNING: All log messages before absl::InitializeLog() is called are written to STDERR\n",
            "E0000 00:00:1754891325.959316   26453 cuda_dnn.cc:8579] Unable to register cuDNN factory: Attempting to register factory for plugin cuDNN when one has already been registered\n",
            "E0000 00:00:1754891325.965611   26453 cuda_blas.cc:1407] Unable to register cuBLAS factory: Attempting to register factory for plugin cuBLAS when one has already been registered\n",
            "W0000 00:00:1754891325.982769   26453 computation_placer.cc:177] computation placer already registered. Please check linkage and avoid linking the same target more than once.\n",
            "W0000 00:00:1754891325.982795   26453 computation_placer.cc:177] computation placer already registered. Please check linkage and avoid linking the same target more than once.\n",
            "W0000 00:00:1754891325.982798   26453 computation_placer.cc:177] computation placer already registered. Please check linkage and avoid linking the same target more than once.\n",
            "W0000 00:00:1754891325.982800   26453 computation_placer.cc:177] computation placer already registered. Please check linkage and avoid linking the same target more than once.\n",
            "Evaluating:   0% 0/8 [00:00<?, ?it/s]This is a friendly reminder - the current text generation call will exceed the model's predefined maximum length (2048). Depending on the model, you may observe exceptions, performance degradation, or nothing at all.\n",
            "Evaluating: 100% 8/8 [10:28<00:00, 78.58s/it]\n",
            "\n",
            "============================================================\n",
            "EVALUATION RESULTS\n",
            "============================================================\n",
            "Total examples evaluated: 8\n",
            "\n",
            "Success Rates:\n",
            "  Generation: 100.0%\n",
            "  Compilation: 0.0%\n",
            "  Simulation: 0.0%\n",
            "  Valid Syntax: 0.0%\n",
            "\n",
            "Component Presence:\n",
            "  timescale: 37.5%\n",
            "  module: 100.0%\n",
            "  initial: 100.0%\n",
            "  finish: 75.0%\n",
            "  display: 62.5%\n",
            "\n",
            "Detailed results saved to: data/test_results\n",
            "\n",
            "Next step: Run 'python scripts/generate.py --dut_file <your_design.v>' to generate testbenches for new designs\n",
            "total 128\n",
            "drwxr-xr-x 2 root root  4096 Aug 11 05:59 .\n",
            "drwxr-xr-x 4 root root  4096 Aug 11 05:59 ..\n",
            "-rw-r--r-- 1 root root 75429 Aug 11 05:59 evaluation_results.json\n",
            "-rw-r--r-- 1 root root  5521 Aug 11 05:59 generated_tb_0.v\n",
            "-rw-r--r-- 1 root root  3236 Aug 11 05:59 generated_tb_1.v\n",
            "-rw-r--r-- 1 root root  3874 Aug 11 05:59 generated_tb_2.v\n",
            "-rw-r--r-- 1 root root  3613 Aug 11 05:59 generated_tb_3.v\n",
            "-rw-r--r-- 1 root root  3459 Aug 11 05:59 generated_tb_4.v\n",
            "-rw-r--r-- 1 root root  3270 Aug 11 05:59 generated_tb_5.v\n",
            "-rw-r--r-- 1 root root  5143 Aug 11 05:59 generated_tb_6.v\n",
            "-rw-r--r-- 1 root root  4278 Aug 11 05:59 generated_tb_7.v\n"
          ]
        }
      ]
    },
    {
      "cell_type": "code",
      "source": [
        "# Load and display evaluation results\n",
        "import json\n",
        "\n",
        "with open('data/test_results/evaluation_results.json', 'r') as f:\n",
        "    results = json.load(f)\n",
        "\n",
        "print(\"Evaluation Metrics:\")\n",
        "print(\"=\"*50)\n",
        "for metric, value in results['metrics'].items():\n",
        "    if isinstance(value, float):\n",
        "        print(f\"{metric}: {value:.2%}\")\n",
        "    else:\n",
        "        print(f\"{metric}: {value}\")"
      ],
      "metadata": {
        "colab": {
          "base_uri": "https://localhost:8080/"
        },
        "id": "3xxv7DQOrJsA",
        "outputId": "1c2a43a6-b2dd-42e9-8009-d44db2c2fdf4"
      },
      "execution_count": null,
      "outputs": [
        {
          "output_type": "stream",
          "name": "stdout",
          "text": [
            "Evaluation Metrics:\n",
            "==================================================\n",
            "total_examples: 8\n",
            "generation_success_rate: 100.00%\n",
            "compilation_success_rate: 0.00%\n",
            "simulation_success_rate: 0.00%\n",
            "syntax_valid_rate: 0.00%\n",
            "has_timescale_rate: 37.50%\n",
            "has_module_rate: 100.00%\n",
            "has_initial_rate: 100.00%\n",
            "has_finish_rate: 75.00%\n",
            "has_display_rate: 62.50%\n"
          ]
        }
      ]
    },
    {
      "cell_type": "code",
      "source": [
        "# View a sample generated testbench\n",
        "import random\n",
        "\n",
        "# List generated files\n",
        "import glob\n",
        "tb_files = glob.glob('data/test_results/generated_tb_*.v')\n",
        "\n",
        "if tb_files:\n",
        "    # Pick a random one to display\n",
        "    sample_file = random.choice(tb_files)\n",
        "    print(f\"Viewing: {sample_file}\")\n",
        "    print(\"=\"*60)\n",
        "\n",
        "    with open(sample_file, 'r') as f:\n",
        "        print(f.read())\n",
        "else:\n",
        "    print(\"No generated testbenches found\")"
      ],
      "metadata": {
        "colab": {
          "base_uri": "https://localhost:8080/"
        },
        "id": "Y2YFgpRArLns",
        "outputId": "d1be3628-e0e8-49e5-881a-f000e05254d6"
      },
      "execution_count": null,
      "outputs": [
        {
          "output_type": "stream",
          "name": "stdout",
          "text": [
            "Viewing: data/test_results/generated_tb_5.v\n",
            "============================================================\n",
            "module top_module_tb;\n",
            "Bit#(1) clk_in = 1'b0;\n",
            "Bit#(1) clk_in_neg = 1'b0;\n",
            "Bit#(1) d_in = 0;\n",
            "Bit#(1) ar_in = 1;\n",
            "Bit#(1) q_out = 1;\n",
            "wire clk = 1'b0;\n",
            "wire d = 1'b0;\n",
            "wire ar = 1'b0;\n",
            "wire q = 1'b0;\n",
            "wire q_out_neg = 1'b0;\n",
            "top_module dut( .clk(clk_in), .d(d), .ar(ar_in), .q(q_out) );\n",
            "initial begin\n",
            "clk_in_neg = 1'b1;\n",
            "d_in = 1;\n",
            "ar_in = 1;\n",
            "clk = 1'b0;\n",
            "#5 clk = 1'b1;\n",
            "$display(\"DUT: %0d %0d %0d\", dut.q, dut.d, dut.ar);\n",
            "$finish(0);\n",
            "endinitial begin\n",
            "$display(\"DUT: %0d %0d %0d\", dut.q, dut.d, dut.ar);\n",
            "$finish(0);\n",
            "endinitial begin\n",
            "clk_in = 1'b1;\n",
            "$display(\"DUT: %0d %0d %0d\", dut.q, dut.d, dut.ar);\n",
            "$finish(0);\n",
            "endinitial begin\n",
            "clk_in_neg = 1'b0;\n",
            "#5 clk_in_neg = 1'b1;\n",
            "$display(\"DUT: %0d %0d %0d\", dut.q, dut.d, dut.ar);\n",
            "$finish(0);\n",
            "endinitial begin\n",
            "$display(\"DUT: %0d %0d %0d\", dut.q, dut.d, dut.ar);\n",
            "$finish(0);\n",
            "endinitial begin\n",
            "clk_in = 1'b1;\n",
            "$display(\"DUT: %0d %0d %0d\", dut.q, dut.d, dut.ar);\n",
            "$finish(0);\n",
            "endinitial begin\n",
            "clk_in_neg = 1'b0;\n",
            "#5 clk_in_neg = 1'b1;\n",
            "$display(\"DUT: %0d %0d %0d\", dut.q, dut.d, dut.ar);\n",
            "$finish(0);\n",
            "endinitial begin\n",
            "clk_in_neg = 1'b1;\n",
            "$display(\"DUT: %0d %0d %0d\", dut.q, dut.d, dut.ar);\n",
            "$finish(0);\n",
            "endinitial begin\n",
            "clk_in_neg = 1'b0;\n",
            "#5 clk_in_neg = 1'b1;\n",
            "$display(\"DUT: %0d %0d %0d\", dut.q, dut.d, dut.ar);\n",
            "$finish(0);\n",
            "endinitial begin\n",
            "clk_in = 1'b0;\n",
            "clk_in_neg = 1'b0;\n",
            "$display(\"DUT: %0d %0d %0d\", dut.q, dut.d, dut.ar);\n",
            "$finish(0);\n",
            "endinitial begin\n",
            "clk_in = 1'b0;\n",
            "$display(\"DUT: %0d %0d %0d\", dut.q, dut.d, dut.ar);\n",
            "$finish(0);\n",
            "endinitial begin\n",
            "$display(\"DUT: %0d %0d %0d\", dut.q, dut.d, dut.ar);\n",
            "$finish(0);\n",
            "endinitial begin\n",
            "clk_in_neg = 1'b0;\n",
            "$display(\"DUT: %0d %0d %0d\", dut.q, dut.d, dut.ar);\n",
            "$finish(0);\n",
            "endinitial begin\n",
            "clk_in_neg = 1'b0;\n",
            "$display(\"DUT: %0d %0d %0d\", dut.q, dut.d, dut.ar);\n",
            "$finish(0);\n",
            "endinitial begin\n",
            "clk_in_neg = 1'b0;\n",
            "$display(\"DUT: %0d %0d %0d\", dut.q, dut.d, dut.ar);\n",
            "$finish(0);\n",
            "endinitial begin\n",
            "clk_in_neg = 1'b1;\n",
            "$display(\"DUT: %0d %0d %0d\", dut.q, dut.d, dut.ar);\n",
            "$finish(0);\n",
            "endinitial begin\n",
            "clk_in_neg = 1'b1;\n",
            "#5 clk_in_neg = 1'b1;\n",
            "$display(\"DUT: %0d %0d %0d\", dut.q, dut.d, dut.ar);\n",
            "$finish(0);\n",
            "endinitial begin\n",
            "clk_in_neg = 1'b0;\n",
            "$display(\"DUT: %0d %0d %0d\", dut.q, dut.d, dut.ar);\n",
            "$finish(0);\n",
            "endinitial begin\n",
            "clk_in_neg = 1'b0;\n",
            "$display(\"DUT: %0d %0d %0d\", dut.q, dut.d, dut.ar);\n",
            "$finish(0);\n",
            "endinitial begin\n",
            "clk_in = 1'b0;\n",
            "$display(\"DUT: %0d %0d %0d\", dut.q, dut.d, dut.ar);\n",
            "$finish(0);\n",
            "endinitial begin\n",
            "clk_in = 1'b0;\n",
            "$display(\"DUT: %0d %0d %0d\", dut.q, dut.d, dut.ar);\n",
            "$finish(0);\n",
            "endinitial begin\n",
            "$display(\"DUT: %0d %0d %0d\", dut.q, dut.d, dut.ar);\n",
            "$finish(0);\n",
            "endinitial begin\n",
            "clk_in_neg = 1'b1;\n",
            "$display(\"DUT: %0d %0d %0d\", dut.q, dut.d, dut.ar);\n",
            "$finish(0);\n",
            "endinitial begin\n",
            "clk_in_neg = 1'b1;\n",
            "$display(\"DUT: %0d %0d %0d\", dut.q, dut.d, dut.ar);\n",
            "$finish(0);\n",
            "endinitial begin\n",
            "clk_in_neg = 1'b0;\n",
            "$display(\"DUT: %0d %0d %0d\", dut.q, dut.d, dut.ar);\n",
            "$finish(0);\n",
            "endinitial begin\n",
            "clk_in_neg = 1'b0;\n",
            "$display(\"DUT: %0d %0d %0d\", dut.q, dut.d, dut.ar);\n",
            "$finish(0);\n",
            "endinitial begin\n",
            "clk_in_neg = 1'b0;\n",
            "$display(\"DUT: %0d %0d %0d\", dut.q, dut.d, dut.ar);\n",
            "$finish(0);\n",
            "endinitial begin\n",
            "$display(\"DUT: %0d %0d %0d\", dut.q, dut.d, dut.ar);\n",
            "$finish(0);\n",
            "endinitial begin\n",
            "clk_in = 1'b0;\n",
            "clk_in_neg = 1'b0;\n",
            "$display(\"DUT: %0d %0d %0d\", dut.q, dut.d, dut.ar);\n",
            "$finish(0);\n",
            "endinitial begin\n",
            "clk_in = 1'b0;\n",
            "clk_in_neg = 1\n"
          ]
        }
      ]
    },
    {
      "cell_type": "code",
      "source": [
        "# Compress evaluation results\n",
        "!cd data/test_results && zip -r /content/evaluation_results.zip * && cd /content\n",
        "\n",
        "# Download\n",
        "from google.colab import files\n",
        "files.download('evaluation_results.zip')\n",
        "print(\"Evaluation results downloaded!\")"
      ],
      "metadata": {
        "colab": {
          "base_uri": "https://localhost:8080/",
          "height": 196
        },
        "id": "SblGOIcdtw6w",
        "outputId": "94d3bbad-fddf-4e33-8800-d550306c4a92"
      },
      "execution_count": null,
      "outputs": [
        {
          "output_type": "stream",
          "name": "stdout",
          "text": [
            "  adding: evaluation_results.json (deflated 95%)\n",
            "  adding: generated_tb_0.v (deflated 98%)\n",
            "  adding: generated_tb_1.v (deflated 93%)\n",
            "  adding: generated_tb_2.v (deflated 97%)\n",
            "  adding: generated_tb_3.v (deflated 93%)\n",
            "  adding: generated_tb_4.v (deflated 93%)\n",
            "  adding: generated_tb_5.v (deflated 92%)\n",
            "  adding: generated_tb_6.v (deflated 94%)\n",
            "  adding: generated_tb_7.v (deflated 94%)\n"
          ]
        },
        {
          "output_type": "display_data",
          "data": {
            "text/plain": [
              "<IPython.core.display.Javascript object>"
            ],
            "application/javascript": [
              "\n",
              "    async function download(id, filename, size) {\n",
              "      if (!google.colab.kernel.accessAllowed) {\n",
              "        return;\n",
              "      }\n",
              "      const div = document.createElement('div');\n",
              "      const label = document.createElement('label');\n",
              "      label.textContent = `Downloading \"${filename}\": `;\n",
              "      div.appendChild(label);\n",
              "      const progress = document.createElement('progress');\n",
              "      progress.max = size;\n",
              "      div.appendChild(progress);\n",
              "      document.body.appendChild(div);\n",
              "\n",
              "      const buffers = [];\n",
              "      let downloaded = 0;\n",
              "\n",
              "      const channel = await google.colab.kernel.comms.open(id);\n",
              "      // Send a message to notify the kernel that we're ready.\n",
              "      channel.send({})\n",
              "\n",
              "      for await (const message of channel.messages) {\n",
              "        // Send a message to notify the kernel that we're ready.\n",
              "        channel.send({})\n",
              "        if (message.buffers) {\n",
              "          for (const buffer of message.buffers) {\n",
              "            buffers.push(buffer);\n",
              "            downloaded += buffer.byteLength;\n",
              "            progress.value = downloaded;\n",
              "          }\n",
              "        }\n",
              "      }\n",
              "      const blob = new Blob(buffers, {type: 'application/binary'});\n",
              "      const a = document.createElement('a');\n",
              "      a.href = window.URL.createObjectURL(blob);\n",
              "      a.download = filename;\n",
              "      div.appendChild(a);\n",
              "      a.click();\n",
              "      div.remove();\n",
              "    }\n",
              "  "
            ]
          },
          "metadata": {}
        },
        {
          "output_type": "display_data",
          "data": {
            "text/plain": [
              "<IPython.core.display.Javascript object>"
            ],
            "application/javascript": [
              "download(\"download_e9137f5d-9c3b-4a6b-81ea-04f10f76d51e\", \"evaluation_results.zip\", 7313)"
            ]
          },
          "metadata": {}
        },
        {
          "output_type": "stream",
          "name": "stdout",
          "text": [
            "Evaluation results downloaded!\n"
          ]
        }
      ]
    },
    {
      "cell_type": "markdown",
      "source": [
        "## 11. Test with Custom Verilog Design\n"
      ],
      "metadata": {
        "id": "bMENlMKvt0zB"
      }
    },
    {
      "cell_type": "code",
      "source": [
        "# Test the model with a custom Verilog design\n",
        "custom_dut = \"\"\"\n",
        "module mux2to1(\n",
        "    input a,\n",
        "    input b,\n",
        "    input sel,\n",
        "    output y\n",
        ");\n",
        "    assign y = sel ? b : a;\n",
        "endmodule\n",
        "\"\"\"\n",
        "\n",
        "print(\"Generating testbench for custom DUT...\")\n",
        "print(\"=\"*60)\n",
        "\n",
        "# Generate using the loaded model\n",
        "test_prompt = f\"\"\"Generate a Verilog testbench for the following design under test (DUT):\n",
        "```verilog\n",
        "{custom_dut}"
      ],
      "metadata": {
        "colab": {
          "base_uri": "https://localhost:8080/",
          "height": 108
        },
        "id": "-sUbgcQUt1AM",
        "outputId": "fe2b24e6-ff99-40c1-e3db-d0e9c5439ffc"
      },
      "execution_count": null,
      "outputs": [
        {
          "output_type": "error",
          "ename": "SyntaxError",
          "evalue": "incomplete input (ipython-input-4186297528.py, line 17)",
          "traceback": [
            "\u001b[0;36m  File \u001b[0;32m\"/tmp/ipython-input-4186297528.py\"\u001b[0;36m, line \u001b[0;32m17\u001b[0m\n\u001b[0;31m    test_prompt = f\"\"\"Generate a Verilog testbench for the following design under test (DUT):\u001b[0m\n\u001b[0m                  ^\u001b[0m\n\u001b[0;31mSyntaxError\u001b[0m\u001b[0;31m:\u001b[0m incomplete input\n"
          ]
        }
      ]
    }
  ]
}